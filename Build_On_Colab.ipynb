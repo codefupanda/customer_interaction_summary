{
  "nbformat": 4,
  "nbformat_minor": 0,
  "metadata": {
    "colab": {
      "name": "Build_On_Colab.ipynb",
      "provenance": [],
      "authorship_tag": "ABX9TyNaPiYZOU+DcnCwkD+QbnSt",
      "include_colab_link": true
    },
    "kernelspec": {
      "name": "python3",
      "display_name": "Python 3"
    },
    "accelerator": "GPU"
  },
  "cells": [
    {
      "cell_type": "markdown",
      "metadata": {
        "id": "view-in-github",
        "colab_type": "text"
      },
      "source": [
        "<a href=\"https://colab.research.google.com/github/codefupanda/customer_interaction_summary/blob/master/Build_On_Colab.ipynb\" target=\"_parent\"><img src=\"https://colab.research.google.com/assets/colab-badge.svg\" alt=\"Open In Colab\"/></a>"
      ]
    },
    {
      "cell_type": "code",
      "metadata": {
        "id": "Fa_qqZjwg6j_"
      },
      "source": [
        "# The basics\n",
        "import numpy as np\n",
        "import pandas as pd\n",
        "\n",
        "import os\n",
        "import subprocess"
      ],
      "execution_count": 1,
      "outputs": []
    },
    {
      "cell_type": "markdown",
      "metadata": {
        "id": "8_hCeMLah2Dy"
      },
      "source": [
        "**Mount G-Drive to download or save files**"
      ]
    },
    {
      "cell_type": "code",
      "metadata": {
        "id": "MJfdLzT4goUe",
        "outputId": "083639a6-dac2-4710-d9df-d47d6918e7c4",
        "colab": {
          "base_uri": "https://localhost:8080/",
          "height": 34
        }
      },
      "source": [
        "from google.colab import drive\n",
        "drive.mount('/content/gdrive', force_remount=True)"
      ],
      "execution_count": 2,
      "outputs": [
        {
          "output_type": "stream",
          "text": [
            "Mounted at /content/gdrive\n"
          ],
          "name": "stdout"
        }
      ]
    },
    {
      "cell_type": "markdown",
      "metadata": {
        "id": "UzLqCdQBiJWh"
      },
      "source": [
        "**Copy Kaggle configuration JSON file to download data from kaggle**"
      ]
    },
    {
      "cell_type": "code",
      "metadata": {
        "id": "VvUte8IDlLAp"
      },
      "source": [
        "!mkdir /root/.kaggle/"
      ],
      "execution_count": 3,
      "outputs": []
    },
    {
      "cell_type": "code",
      "metadata": {
        "id": "W_q5FyBnhEnq"
      },
      "source": [
        "!cp \"/content/gdrive/My Drive/Colab Notebooks/.kaggle/kaggle.json\" '/root/.kaggle/kaggle.json'"
      ],
      "execution_count": 4,
      "outputs": []
    },
    {
      "cell_type": "markdown",
      "metadata": {
        "id": "c1t4fyGNiP1N"
      },
      "source": [
        "**Clone the code from github**"
      ]
    },
    {
      "cell_type": "code",
      "metadata": {
        "id": "hqhpjCDFhcrm",
        "outputId": "04b8d8c2-8647-4e9a-da8b-26cbd38db5cd",
        "colab": {
          "base_uri": "https://localhost:8080/",
          "height": 141
        }
      },
      "source": [
        "!git clone https://github.com/codefupanda/customer_interaction_summary.git"
      ],
      "execution_count": 5,
      "outputs": [
        {
          "output_type": "stream",
          "text": [
            "Cloning into 'customer_interaction_summary'...\n",
            "remote: Enumerating objects: 201, done.\u001b[K\n",
            "remote: Counting objects: 100% (201/201), done.\u001b[K\n",
            "remote: Compressing objects: 100% (148/148), done.\u001b[K\n",
            "remote: Total 201 (delta 124), reused 114 (delta 48), pack-reused 0\u001b[K\n",
            "Receiving objects: 100% (201/201), 2.26 MiB | 2.07 MiB/s, done.\n",
            "Resolving deltas: 100% (124/124), done.\n"
          ],
          "name": "stdout"
        }
      ]
    },
    {
      "cell_type": "markdown",
      "metadata": {
        "id": "Kh4I4nijicA_"
      },
      "source": [
        "**Init step**: Download required data and dependencies"
      ]
    },
    {
      "cell_type": "code",
      "metadata": {
        "id": "ZBnaF3HMgwUP",
        "outputId": "60be15c3-5aea-4959-9c07-34f90436da01",
        "colab": {
          "base_uri": "https://localhost:8080/",
          "height": 105
        }
      },
      "source": [
        "!cd customer_interaction_summary && make requirements && make data"
      ],
      "execution_count": 6,
      "outputs": [
        {
          "output_type": "stream",
          "text": [
            "\n",
            "Aborted!\n",
            "Makefile:53: recipe for target 'data' failed\n",
            "make: *** [data] Error 1\n",
            "^C\n"
          ],
          "name": "stdout"
        }
      ]
    },
    {
      "cell_type": "markdown",
      "metadata": {
        "id": "JEV5tioAijO_"
      },
      "source": [
        "**TRAIN**: Train the model, src /models/model_configs.py as the configuration for which models to train"
      ]
    },
    {
      "cell_type": "code",
      "metadata": {
        "id": "QO6Z1fYr8-hc",
        "outputId": "ed6966ac-ac66-4be3-e98c-82276aff8689",
        "colab": {
          "base_uri": "https://localhost:8080/",
          "height": 105
        }
      },
      "source": [
        "!cd customer_interaction_summary && git pull"
      ],
      "execution_count": 21,
      "outputs": [
        {
          "output_type": "stream",
          "text": [
            "Updating 3c72316..3977ece\n",
            "Fast-forward\n",
            " data/processed/isear_test.csv  |  3834 \u001b[32m++\u001b[m\u001b[31m---\u001b[m\n",
            " data/processed/isear_train.csv | 34494 \u001b[32m+++++++++++++++++++\u001b[m\u001b[31m--------------------\u001b[m\n",
            " 2 files changed, 19164 insertions(+), 19164 deletions(-)\n"
          ],
          "name": "stdout"
        }
      ]
    },
    {
      "cell_type": "code",
      "metadata": {
        "id": "qTmEp5s1Mwrh",
        "outputId": "2323b57d-1245-4777-d9e2-474bacfe1b17",
        "colab": {
          "base_uri": "https://localhost:8080/",
          "height": 123
        }
      },
      "source": [
        "!cd customer_interaction_summary && python3 src/data/make_dataset.py data/raw data/processed"
      ],
      "execution_count": 10,
      "outputs": [
        {
          "output_type": "stream",
          "text": [
            "2020-09-28 15:07:26,508 - __main__ - INFO - making final data set from raw data\n",
            "2020-09-28 15:07:26,541 - __main__ - INFO - Removing stopwords\n",
            "2020-09-28 15:09:00,272 - __main__ - INFO - Lemmatizing strings\n",
            "2020-09-28 15:10:15,741 - __main__ - INFO - Splitting data\n",
            "2020-09-28 15:10:15,747 - __main__ - INFO - Saving data\n",
            "2020-09-28 15:10:15,770 - __main__ - INFO - successfully wrote train and test files\n"
          ],
          "name": "stdout"
        }
      ]
    },
    {
      "cell_type": "code",
      "metadata": {
        "id": "FrTjHi_3hGQE",
        "outputId": "c7302e96-5b4a-4f70-88ac-18638d679e5f",
        "colab": {
          "base_uri": "https://localhost:8080/",
          "height": 1000
        }
      },
      "source": [
        "!cd customer_interaction_summary && make train"
      ],
      "execution_count": 22,
      "outputs": [
        {
          "output_type": "stream",
          "text": [
            "python3 src/models/train_model.py --input_filepath=data/processed --output_filepath=models/ --pad_sequences_maxlen=1000 --max_words=30000 --epochs=20 --batch_size=128 --output_dim=50\n",
            "2020-09-28 15:36:03.301778: I tensorflow/stream_executor/platform/default/dso_loader.cc:48] Successfully opened dynamic library libcudart.so.10.1\n",
            "2020-09-28 15:36:04,815 - __main__ - INFO - starting the training process\n",
            "2020-09-28 15:36:04,815 - __main__ - INFO - --input_filepath data/processed\n",
            "2020-09-28 15:36:04,815 - __main__ - INFO - --output_filepath models/\n",
            "2020-09-28 15:36:04,815 - __main__ - INFO - --pad_sequences_maxlen 1000\n",
            "2020-09-28 15:36:04,815 - __main__ - INFO - --max_words 30000\n",
            "2020-09-28 15:36:04,815 - __main__ - INFO - --epochs 20\n",
            "2020-09-28 15:36:04,815 - __main__ - INFO - --batch_size 128\n",
            "Found 13614 unique tokens.\n",
            "Found 400000 word vectors.\n",
            "Training the model: LSTM\n",
            "2020-09-28 15:36:11.847972: I tensorflow/stream_executor/platform/default/dso_loader.cc:48] Successfully opened dynamic library libcuda.so.1\n",
            "2020-09-28 15:36:11.870193: I tensorflow/stream_executor/cuda/cuda_gpu_executor.cc:982] successful NUMA node read from SysFS had negative value (-1), but there must be at least one NUMA node, so returning NUMA node zero\n",
            "2020-09-28 15:36:11.870973: I tensorflow/core/common_runtime/gpu/gpu_device.cc:1716] Found device 0 with properties: \n",
            "pciBusID: 0000:00:04.0 name: Tesla K80 computeCapability: 3.7\n",
            "coreClock: 0.8235GHz coreCount: 13 deviceMemorySize: 11.17GiB deviceMemoryBandwidth: 223.96GiB/s\n",
            "2020-09-28 15:36:11.871032: I tensorflow/stream_executor/platform/default/dso_loader.cc:48] Successfully opened dynamic library libcudart.so.10.1\n",
            "2020-09-28 15:36:11.872816: I tensorflow/stream_executor/platform/default/dso_loader.cc:48] Successfully opened dynamic library libcublas.so.10\n",
            "2020-09-28 15:36:11.874544: I tensorflow/stream_executor/platform/default/dso_loader.cc:48] Successfully opened dynamic library libcufft.so.10\n",
            "2020-09-28 15:36:11.874919: I tensorflow/stream_executor/platform/default/dso_loader.cc:48] Successfully opened dynamic library libcurand.so.10\n",
            "2020-09-28 15:36:11.876823: I tensorflow/stream_executor/platform/default/dso_loader.cc:48] Successfully opened dynamic library libcusolver.so.10\n",
            "2020-09-28 15:36:11.877640: I tensorflow/stream_executor/platform/default/dso_loader.cc:48] Successfully opened dynamic library libcusparse.so.10\n",
            "2020-09-28 15:36:11.881562: I tensorflow/stream_executor/platform/default/dso_loader.cc:48] Successfully opened dynamic library libcudnn.so.7\n",
            "2020-09-28 15:36:11.881724: I tensorflow/stream_executor/cuda/cuda_gpu_executor.cc:982] successful NUMA node read from SysFS had negative value (-1), but there must be at least one NUMA node, so returning NUMA node zero\n",
            "2020-09-28 15:36:11.882518: I tensorflow/stream_executor/cuda/cuda_gpu_executor.cc:982] successful NUMA node read from SysFS had negative value (-1), but there must be at least one NUMA node, so returning NUMA node zero\n",
            "2020-09-28 15:36:11.883273: I tensorflow/core/common_runtime/gpu/gpu_device.cc:1858] Adding visible gpu devices: 0\n",
            "2020-09-28 15:36:11.888939: I tensorflow/core/platform/profile_utils/cpu_utils.cc:104] CPU Frequency: 2299995000 Hz\n",
            "2020-09-28 15:36:11.889216: I tensorflow/compiler/xla/service/service.cc:168] XLA service 0x1fd4f40 initialized for platform Host (this does not guarantee that XLA will be used). Devices:\n",
            "2020-09-28 15:36:11.889253: I tensorflow/compiler/xla/service/service.cc:176]   StreamExecutor device (0): Host, Default Version\n",
            "2020-09-28 15:36:11.953927: I tensorflow/stream_executor/cuda/cuda_gpu_executor.cc:982] successful NUMA node read from SysFS had negative value (-1), but there must be at least one NUMA node, so returning NUMA node zero\n",
            "2020-09-28 15:36:11.954814: I tensorflow/compiler/xla/service/service.cc:168] XLA service 0x1fd4d80 initialized for platform CUDA (this does not guarantee that XLA will be used). Devices:\n",
            "2020-09-28 15:36:11.954856: I tensorflow/compiler/xla/service/service.cc:176]   StreamExecutor device (0): Tesla K80, Compute Capability 3.7\n",
            "2020-09-28 15:36:11.955163: I tensorflow/stream_executor/cuda/cuda_gpu_executor.cc:982] successful NUMA node read from SysFS had negative value (-1), but there must be at least one NUMA node, so returning NUMA node zero\n",
            "2020-09-28 15:36:11.955858: I tensorflow/core/common_runtime/gpu/gpu_device.cc:1716] Found device 0 with properties: \n",
            "pciBusID: 0000:00:04.0 name: Tesla K80 computeCapability: 3.7\n",
            "coreClock: 0.8235GHz coreCount: 13 deviceMemorySize: 11.17GiB deviceMemoryBandwidth: 223.96GiB/s\n",
            "2020-09-28 15:36:11.955946: I tensorflow/stream_executor/platform/default/dso_loader.cc:48] Successfully opened dynamic library libcudart.so.10.1\n",
            "2020-09-28 15:36:11.956009: I tensorflow/stream_executor/platform/default/dso_loader.cc:48] Successfully opened dynamic library libcublas.so.10\n",
            "2020-09-28 15:36:11.956054: I tensorflow/stream_executor/platform/default/dso_loader.cc:48] Successfully opened dynamic library libcufft.so.10\n",
            "2020-09-28 15:36:11.956119: I tensorflow/stream_executor/platform/default/dso_loader.cc:48] Successfully opened dynamic library libcurand.so.10\n",
            "2020-09-28 15:36:11.956163: I tensorflow/stream_executor/platform/default/dso_loader.cc:48] Successfully opened dynamic library libcusolver.so.10\n",
            "2020-09-28 15:36:11.956205: I tensorflow/stream_executor/platform/default/dso_loader.cc:48] Successfully opened dynamic library libcusparse.so.10\n",
            "2020-09-28 15:36:11.956246: I tensorflow/stream_executor/platform/default/dso_loader.cc:48] Successfully opened dynamic library libcudnn.so.7\n",
            "2020-09-28 15:36:11.956405: I tensorflow/stream_executor/cuda/cuda_gpu_executor.cc:982] successful NUMA node read from SysFS had negative value (-1), but there must be at least one NUMA node, so returning NUMA node zero\n",
            "2020-09-28 15:36:11.957223: I tensorflow/stream_executor/cuda/cuda_gpu_executor.cc:982] successful NUMA node read from SysFS had negative value (-1), but there must be at least one NUMA node, so returning NUMA node zero\n",
            "2020-09-28 15:36:11.957891: I tensorflow/core/common_runtime/gpu/gpu_device.cc:1858] Adding visible gpu devices: 0\n",
            "2020-09-28 15:36:11.957957: I tensorflow/stream_executor/platform/default/dso_loader.cc:48] Successfully opened dynamic library libcudart.so.10.1\n",
            "2020-09-28 15:36:12.436727: I tensorflow/core/common_runtime/gpu/gpu_device.cc:1257] Device interconnect StreamExecutor with strength 1 edge matrix:\n",
            "2020-09-28 15:36:12.436810: I tensorflow/core/common_runtime/gpu/gpu_device.cc:1263]      0 \n",
            "2020-09-28 15:36:12.436829: I tensorflow/core/common_runtime/gpu/gpu_device.cc:1276] 0:   N \n",
            "2020-09-28 15:36:12.437174: I tensorflow/stream_executor/cuda/cuda_gpu_executor.cc:982] successful NUMA node read from SysFS had negative value (-1), but there must be at least one NUMA node, so returning NUMA node zero\n",
            "2020-09-28 15:36:12.438018: I tensorflow/stream_executor/cuda/cuda_gpu_executor.cc:982] successful NUMA node read from SysFS had negative value (-1), but there must be at least one NUMA node, so returning NUMA node zero\n",
            "2020-09-28 15:36:12.438817: W tensorflow/core/common_runtime/gpu/gpu_bfc_allocator.cc:39] Overriding allow_growth setting because the TF_FORCE_GPU_ALLOW_GROWTH environment variable is set. Original config value was 0.\n",
            "2020-09-28 15:36:12.438870: I tensorflow/core/common_runtime/gpu/gpu_device.cc:1402] Created TensorFlow device (/job:localhost/replica:0/task:0/device:GPU:0 with 10630 MB memory) -> physical GPU (device: 0, name: Tesla K80, pci bus id: 0000:00:04.0, compute capability: 3.7)\n",
            "Epoch 1/20\n",
            "2020-09-28 15:36:15.006018: W tensorflow/core/grappler/optimizers/auto_mixed_precision.cc:1972] No (suitable) GPUs detected, skipping auto_mixed_precision_cuda graph optimizer\n",
            "2020-09-28 15:36:15.067914: W tensorflow/core/grappler/optimizers/auto_mixed_precision.cc:1972] No (suitable) GPUs detected, skipping auto_mixed_precision_cuda graph optimizer\n",
            "2020-09-28 15:36:15.112628: I tensorflow/stream_executor/platform/default/dso_loader.cc:48] Successfully opened dynamic library libcublas.so.10\n",
            "2020-09-28 15:36:15.355718: W tensorflow/core/grappler/optimizers/auto_mixed_precision.cc:1972] No (suitable) GPUs detected, skipping auto_mixed_precision_cuda graph optimizer\n",
            "2020-09-28 15:36:15.370023: W tensorflow/core/grappler/optimizers/auto_mixed_precision.cc:1972] No (suitable) GPUs detected, skipping auto_mixed_precision_cuda graph optimizer\n",
            "2020-09-28 15:36:15.380592: I tensorflow/stream_executor/platform/default/dso_loader.cc:48] Successfully opened dynamic library libcudnn.so.7\n",
            "2020-09-28 15:36:16.169739: W tensorflow/core/grappler/optimizers/auto_mixed_precision.cc:1972] No (suitable) GPUs detected, skipping auto_mixed_precision_cuda graph optimizer\n",
            "2020-09-28 15:36:16.182525: W tensorflow/core/grappler/optimizers/auto_mixed_precision.cc:1972] No (suitable) GPUs detected, skipping auto_mixed_precision_cuda graph optimizer\n",
            "122/122 [==============================] - ETA: 0s - loss: 1.7853 - accuracy: 0.37592020-09-28 15:36:41.182203: W tensorflow/core/grappler/optimizers/auto_mixed_precision.cc:1972] No (suitable) GPUs detected, skipping auto_mixed_precision_cuda graph optimizer\n",
            "2020-09-28 15:36:41.201487: W tensorflow/core/grappler/optimizers/auto_mixed_precision.cc:1972] No (suitable) GPUs detected, skipping auto_mixed_precision_cuda graph optimizer\n",
            "2020-09-28 15:36:41.231491: W tensorflow/core/grappler/optimizers/auto_mixed_precision.cc:1972] No (suitable) GPUs detected, skipping auto_mixed_precision_cuda graph optimizer\n",
            "2020-09-28 15:36:41.237680: W tensorflow/core/grappler/optimizers/auto_mixed_precision.cc:1972] No (suitable) GPUs detected, skipping auto_mixed_precision_cuda graph optimizer\n",
            "122/122 [==============================] - 26s 212ms/step - loss: 1.7853 - accuracy: 0.3759 - val_loss: 1.4500 - val_accuracy: 0.4620\n",
            "Epoch 2/20\n",
            "122/122 [==============================] - 25s 209ms/step - loss: 1.2516 - accuracy: 0.5416 - val_loss: 1.1699 - val_accuracy: 0.5855\n",
            "Epoch 3/20\n",
            "122/122 [==============================] - 26s 211ms/step - loss: 0.9881 - accuracy: 0.6402 - val_loss: 1.0247 - val_accuracy: 0.6412\n",
            "Epoch 4/20\n",
            "122/122 [==============================] - 25s 208ms/step - loss: 0.8255 - accuracy: 0.7006 - val_loss: 0.9373 - val_accuracy: 0.6719\n",
            "Epoch 5/20\n",
            "122/122 [==============================] - 25s 209ms/step - loss: 0.6804 - accuracy: 0.7536 - val_loss: 0.8774 - val_accuracy: 0.7067\n",
            "Epoch 6/20\n",
            "122/122 [==============================] - 25s 208ms/step - loss: 0.5915 - accuracy: 0.7888 - val_loss: 0.8080 - val_accuracy: 0.7374\n",
            "Epoch 7/20\n",
            "122/122 [==============================] - 26s 210ms/step - loss: 0.5245 - accuracy: 0.8136 - val_loss: 0.7793 - val_accuracy: 0.7426\n",
            "Epoch 8/20\n",
            "122/122 [==============================] - 25s 208ms/step - loss: 0.4708 - accuracy: 0.8345 - val_loss: 0.8528 - val_accuracy: 0.7391\n",
            "Epoch 9/20\n",
            "122/122 [==============================] - 26s 210ms/step - loss: 0.4584 - accuracy: 0.8380 - val_loss: 0.8134 - val_accuracy: 0.7513\n",
            "Epoch 10/20\n",
            "122/122 [==============================] - 25s 209ms/step - loss: 0.4219 - accuracy: 0.8506 - val_loss: 0.7802 - val_accuracy: 0.7675\n",
            "Epoch 11/20\n",
            "122/122 [==============================] - 25s 208ms/step - loss: 0.4048 - accuracy: 0.8579 - val_loss: 0.7306 - val_accuracy: 0.7733\n",
            "Epoch 12/20\n",
            "122/122 [==============================] - 25s 208ms/step - loss: 0.4122 - accuracy: 0.8535 - val_loss: 0.7886 - val_accuracy: 0.7722\n",
            "Epoch 13/20\n",
            "122/122 [==============================] - 26s 210ms/step - loss: 0.3845 - accuracy: 0.8623 - val_loss: 0.7874 - val_accuracy: 0.7890\n",
            "Epoch 14/20\n",
            "122/122 [==============================] - 26s 209ms/step - loss: 0.6351 - accuracy: 0.8103 - val_loss: 0.9993 - val_accuracy: 0.7264\n",
            "Epoch 15/20\n",
            "122/122 [==============================] - 25s 209ms/step - loss: 0.5060 - accuracy: 0.8228 - val_loss: 0.8705 - val_accuracy: 0.7501\n",
            "Epoch 16/20\n",
            "122/122 [==============================] - 25s 207ms/step - loss: 0.4181 - accuracy: 0.8509 - val_loss: 0.8433 - val_accuracy: 0.7716\n",
            "Epoch 17/20\n",
            "122/122 [==============================] - 26s 209ms/step - loss: 0.4036 - accuracy: 0.8583 - val_loss: 0.8522 - val_accuracy: 0.7704\n",
            "Epoch 18/20\n",
            "122/122 [==============================] - 25s 209ms/step - loss: 0.3623 - accuracy: 0.8721 - val_loss: 0.8729 - val_accuracy: 0.7739\n",
            "Epoch 19/20\n",
            "122/122 [==============================] - 26s 209ms/step - loss: 0.3702 - accuracy: 0.8692 - val_loss: 0.8403 - val_accuracy: 0.7820\n",
            "Epoch 20/20\n",
            "122/122 [==============================] - 25s 208ms/step - loss: 0.3520 - accuracy: 0.8777 - val_loss: 0.8902 - val_accuracy: 0.7664\n",
            "2020-09-28 15:44:50.380465: W tensorflow/core/grappler/optimizers/auto_mixed_precision.cc:1972] No (suitable) GPUs detected, skipping auto_mixed_precision_cuda graph optimizer\n",
            "2020-09-28 15:44:50.393283: W tensorflow/core/grappler/optimizers/auto_mixed_precision.cc:1972] No (suitable) GPUs detected, skipping auto_mixed_precision_cuda graph optimizer\n",
            "2020-09-28 15:44:50.413243: W tensorflow/core/grappler/optimizers/auto_mixed_precision.cc:1972] No (suitable) GPUs detected, skipping auto_mixed_precision_cuda graph optimizer\n",
            "2020-09-28 15:44:50.418488: W tensorflow/core/grappler/optimizers/auto_mixed_precision.cc:1972] No (suitable) GPUs detected, skipping auto_mixed_precision_cuda graph optimizer\n",
            "WARNING:tensorflow:From /usr/local/lib/python3.6/dist-packages/tensorflow/python/training/tracking/tracking.py:111: Model.state_updates (from tensorflow.python.keras.engine.training) is deprecated and will be removed in a future version.\n",
            "Instructions for updating:\n",
            "This property should not be used in TensorFlow 2.0, as updates are applied automatically.\n",
            "2020-09-28 15:44:56,586 - tensorflow - WARNING - From /usr/local/lib/python3.6/dist-packages/tensorflow/python/training/tracking/tracking.py:111: Model.state_updates (from tensorflow.python.keras.engine.training) is deprecated and will be removed in a future version.\n",
            "Instructions for updating:\n",
            "This property should not be used in TensorFlow 2.0, as updates are applied automatically.\n",
            "WARNING:tensorflow:From /usr/local/lib/python3.6/dist-packages/tensorflow/python/training/tracking/tracking.py:111: Layer.updates (from tensorflow.python.keras.engine.base_layer) is deprecated and will be removed in a future version.\n",
            "Instructions for updating:\n",
            "This property should not be used in TensorFlow 2.0, as updates are applied automatically.\n",
            "2020-09-28 15:44:56,587 - tensorflow - WARNING - From /usr/local/lib/python3.6/dist-packages/tensorflow/python/training/tracking/tracking.py:111: Layer.updates (from tensorflow.python.keras.engine.base_layer) is deprecated and will be removed in a future version.\n",
            "Instructions for updating:\n",
            "This property should not be used in TensorFlow 2.0, as updates are applied automatically.\n",
            "2020-09-28 15:44:57.308988: W tensorflow/python/util/util.cc:348] Sets are not currently considered sequences, but this may change in the future, so consider avoiding using them.\n",
            "INFO:tensorflow:Assets written to: models/LSTM/assets\n",
            "2020-09-28 15:45:00,907 - tensorflow - INFO - Assets written to: models/LSTM/assets\n",
            "Training the model: LSTM_Glove\n",
            "Epoch 1/20\n",
            "2020-09-28 15:45:03.682607: W tensorflow/core/grappler/optimizers/auto_mixed_precision.cc:1972] No (suitable) GPUs detected, skipping auto_mixed_precision_cuda graph optimizer\n",
            "2020-09-28 15:45:03.747786: W tensorflow/core/grappler/optimizers/auto_mixed_precision.cc:1972] No (suitable) GPUs detected, skipping auto_mixed_precision_cuda graph optimizer\n",
            "2020-09-28 15:45:03.830922: W tensorflow/core/grappler/optimizers/auto_mixed_precision.cc:1972] No (suitable) GPUs detected, skipping auto_mixed_precision_cuda graph optimizer\n",
            "2020-09-28 15:45:03.839966: W tensorflow/core/grappler/optimizers/auto_mixed_precision.cc:1972] No (suitable) GPUs detected, skipping auto_mixed_precision_cuda graph optimizer\n",
            "2020-09-28 15:45:03.952438: W tensorflow/core/grappler/optimizers/auto_mixed_precision.cc:1972] No (suitable) GPUs detected, skipping auto_mixed_precision_cuda graph optimizer\n",
            "2020-09-28 15:45:03.967137: W tensorflow/core/grappler/optimizers/auto_mixed_precision.cc:1972] No (suitable) GPUs detected, skipping auto_mixed_precision_cuda graph optimizer\n",
            "122/122 [==============================] - ETA: 0s - loss: 1.9088 - accuracy: 0.35732020-09-28 15:45:28.892707: W tensorflow/core/grappler/optimizers/auto_mixed_precision.cc:1972] No (suitable) GPUs detected, skipping auto_mixed_precision_cuda graph optimizer\n",
            "2020-09-28 15:45:28.911541: W tensorflow/core/grappler/optimizers/auto_mixed_precision.cc:1972] No (suitable) GPUs detected, skipping auto_mixed_precision_cuda graph optimizer\n",
            "2020-09-28 15:45:28.940404: W tensorflow/core/grappler/optimizers/auto_mixed_precision.cc:1972] No (suitable) GPUs detected, skipping auto_mixed_precision_cuda graph optimizer\n",
            "2020-09-28 15:45:28.946194: W tensorflow/core/grappler/optimizers/auto_mixed_precision.cc:1972] No (suitable) GPUs detected, skipping auto_mixed_precision_cuda graph optimizer\n",
            "122/122 [==============================] - 26s 212ms/step - loss: 1.9088 - accuracy: 0.3573 - val_loss: 1.3573 - val_accuracy: 0.4794\n",
            "Epoch 2/20\n",
            "122/122 [==============================] - 25s 209ms/step - loss: 1.2751 - accuracy: 0.5313 - val_loss: 1.1947 - val_accuracy: 0.5774\n",
            "Epoch 3/20\n",
            "122/122 [==============================] - 25s 206ms/step - loss: 1.0390 - accuracy: 0.6248 - val_loss: 1.0289 - val_accuracy: 0.6325\n",
            "Epoch 4/20\n",
            "122/122 [==============================] - 25s 208ms/step - loss: 0.8178 - accuracy: 0.7100 - val_loss: 0.9327 - val_accuracy: 0.6742\n",
            "Epoch 5/20\n",
            "122/122 [==============================] - 25s 207ms/step - loss: 0.6956 - accuracy: 0.7511 - val_loss: 0.8883 - val_accuracy: 0.7003\n",
            "Epoch 6/20\n",
            "122/122 [==============================] - 25s 207ms/step - loss: 0.6040 - accuracy: 0.7805 - val_loss: 0.8318 - val_accuracy: 0.7252\n",
            "Epoch 7/20\n",
            "122/122 [==============================] - 25s 207ms/step - loss: 0.5455 - accuracy: 0.8058 - val_loss: 0.8146 - val_accuracy: 0.7403\n",
            "Epoch 8/20\n",
            "122/122 [==============================] - 25s 206ms/step - loss: 0.4919 - accuracy: 0.8251 - val_loss: 0.8072 - val_accuracy: 0.7386\n",
            "Epoch 9/20\n",
            "122/122 [==============================] - 25s 208ms/step - loss: 0.4577 - accuracy: 0.8369 - val_loss: 0.7482 - val_accuracy: 0.7641\n",
            "Epoch 10/20\n",
            "122/122 [==============================] - 25s 209ms/step - loss: 0.4450 - accuracy: 0.8436 - val_loss: 0.7512 - val_accuracy: 0.7606\n",
            "Epoch 11/20\n",
            "122/122 [==============================] - 25s 206ms/step - loss: 0.4163 - accuracy: 0.8529 - val_loss: 0.7831 - val_accuracy: 0.7681\n",
            "Epoch 12/20\n",
            "122/122 [==============================] - 26s 210ms/step - loss: 0.4061 - accuracy: 0.8563 - val_loss: 0.7950 - val_accuracy: 0.7751\n",
            "Epoch 13/20\n",
            "122/122 [==============================] - 26s 209ms/step - loss: 0.3950 - accuracy: 0.8600 - val_loss: 0.7633 - val_accuracy: 0.7687\n",
            "Epoch 14/20\n",
            "122/122 [==============================] - 26s 210ms/step - loss: 0.3831 - accuracy: 0.8652 - val_loss: 0.7783 - val_accuracy: 0.7780\n",
            "Epoch 15/20\n",
            "122/122 [==============================] - 25s 208ms/step - loss: 0.3509 - accuracy: 0.8759 - val_loss: 0.7258 - val_accuracy: 0.7809\n",
            "Epoch 16/20\n",
            "122/122 [==============================] - 25s 209ms/step - loss: 0.3713 - accuracy: 0.8715 - val_loss: 0.8112 - val_accuracy: 0.7722\n",
            "Epoch 17/20\n",
            "122/122 [==============================] - 25s 208ms/step - loss: 0.3560 - accuracy: 0.8774 - val_loss: 0.7998 - val_accuracy: 0.7803\n",
            "Epoch 18/20\n",
            "122/122 [==============================] - 26s 209ms/step - loss: 0.3390 - accuracy: 0.8811 - val_loss: 0.7758 - val_accuracy: 0.7867\n",
            "Epoch 19/20\n",
            "122/122 [==============================] - 26s 209ms/step - loss: 0.3469 - accuracy: 0.8797 - val_loss: 0.8333 - val_accuracy: 0.7733\n",
            "Epoch 20/20\n",
            "122/122 [==============================] - 26s 210ms/step - loss: 0.3474 - accuracy: 0.8783 - val_loss: 0.8242 - val_accuracy: 0.7791\n",
            "2020-09-28 15:53:36.652365: W tensorflow/core/grappler/optimizers/auto_mixed_precision.cc:1972] No (suitable) GPUs detected, skipping auto_mixed_precision_cuda graph optimizer\n",
            "2020-09-28 15:53:36.666303: W tensorflow/core/grappler/optimizers/auto_mixed_precision.cc:1972] No (suitable) GPUs detected, skipping auto_mixed_precision_cuda graph optimizer\n",
            "2020-09-28 15:53:36.686604: W tensorflow/core/grappler/optimizers/auto_mixed_precision.cc:1972] No (suitable) GPUs detected, skipping auto_mixed_precision_cuda graph optimizer\n",
            "2020-09-28 15:53:36.692117: W tensorflow/core/grappler/optimizers/auto_mixed_precision.cc:1972] No (suitable) GPUs detected, skipping auto_mixed_precision_cuda graph optimizer\n",
            "INFO:tensorflow:Assets written to: models/LSTM_Glove/assets\n",
            "2020-09-28 15:53:46,662 - tensorflow - INFO - Assets written to: models/LSTM_Glove/assets\n",
            "Training the model: HybridModel\n",
            "Epoch 1/20\n",
            "2020-09-28 15:53:51.161896: W tensorflow/core/grappler/optimizers/auto_mixed_precision.cc:1972] No (suitable) GPUs detected, skipping auto_mixed_precision_cuda graph optimizer\n",
            "2020-09-28 15:53:51.308570: W tensorflow/core/grappler/optimizers/auto_mixed_precision.cc:1972] No (suitable) GPUs detected, skipping auto_mixed_precision_cuda graph optimizer\n",
            "2020-09-28 15:53:51.445257: W tensorflow/core/grappler/optimizers/auto_mixed_precision.cc:1972] No (suitable) GPUs detected, skipping auto_mixed_precision_cuda graph optimizer\n",
            "2020-09-28 15:53:51.453938: W tensorflow/core/grappler/optimizers/auto_mixed_precision.cc:1972] No (suitable) GPUs detected, skipping auto_mixed_precision_cuda graph optimizer\n",
            "2020-09-28 15:53:51.472629: W tensorflow/core/grappler/optimizers/auto_mixed_precision.cc:1972] No (suitable) GPUs detected, skipping auto_mixed_precision_cuda graph optimizer\n",
            "2020-09-28 15:53:51.488288: W tensorflow/core/grappler/optimizers/auto_mixed_precision.cc:1972] No (suitable) GPUs detected, skipping auto_mixed_precision_cuda graph optimizer\n",
            "2020-09-28 15:53:51.983563: W tensorflow/core/grappler/optimizers/auto_mixed_precision.cc:1972] No (suitable) GPUs detected, skipping auto_mixed_precision_cuda graph optimizer\n",
            "2020-09-28 15:53:51.995119: W tensorflow/core/grappler/optimizers/auto_mixed_precision.cc:1972] No (suitable) GPUs detected, skipping auto_mixed_precision_cuda graph optimizer\n",
            "2020-09-28 15:53:52.021205: W tensorflow/core/grappler/optimizers/auto_mixed_precision.cc:1972] No (suitable) GPUs detected, skipping auto_mixed_precision_cuda graph optimizer\n",
            "2020-09-28 15:53:52.041571: W tensorflow/core/grappler/optimizers/auto_mixed_precision.cc:1972] No (suitable) GPUs detected, skipping auto_mixed_precision_cuda graph optimizer\n",
            "122/122 [==============================] - ETA: 0s - loss: 1.6630 - accuracy: 0.35442020-09-28 15:54:44.248631: W tensorflow/core/grappler/optimizers/auto_mixed_precision.cc:1972] No (suitable) GPUs detected, skipping auto_mixed_precision_cuda graph optimizer\n",
            "2020-09-28 15:54:44.284026: W tensorflow/core/grappler/optimizers/auto_mixed_precision.cc:1972] No (suitable) GPUs detected, skipping auto_mixed_precision_cuda graph optimizer\n",
            "2020-09-28 15:54:44.322856: W tensorflow/core/grappler/optimizers/auto_mixed_precision.cc:1972] No (suitable) GPUs detected, skipping auto_mixed_precision_cuda graph optimizer\n",
            "2020-09-28 15:54:44.329152: W tensorflow/core/grappler/optimizers/auto_mixed_precision.cc:1972] No (suitable) GPUs detected, skipping auto_mixed_precision_cuda graph optimizer\n",
            "2020-09-28 15:54:44.343554: W tensorflow/core/grappler/optimizers/auto_mixed_precision.cc:1972] No (suitable) GPUs detected, skipping auto_mixed_precision_cuda graph optimizer\n",
            "2020-09-28 15:54:44.353697: W tensorflow/core/grappler/optimizers/auto_mixed_precision.cc:1972] No (suitable) GPUs detected, skipping auto_mixed_precision_cuda graph optimizer\n",
            "122/122 [==============================] - 54s 444ms/step - loss: 1.6630 - accuracy: 0.3544 - val_loss: 1.4291 - val_accuracy: 0.4841\n",
            "Epoch 2/20\n",
            "122/122 [==============================] - 53s 435ms/step - loss: 1.3538 - accuracy: 0.4945 - val_loss: 1.3266 - val_accuracy: 0.5009\n",
            "Epoch 3/20\n",
            "122/122 [==============================] - 53s 435ms/step - loss: 1.1709 - accuracy: 0.5722 - val_loss: 1.2153 - val_accuracy: 0.5525\n",
            "Epoch 4/20\n",
            "122/122 [==============================] - 53s 434ms/step - loss: 1.2162 - accuracy: 0.5495 - val_loss: 1.1634 - val_accuracy: 0.5878\n",
            "Epoch 5/20\n",
            "122/122 [==============================] - 53s 435ms/step - loss: 1.0738 - accuracy: 0.6053 - val_loss: 1.2063 - val_accuracy: 0.5791\n",
            "Epoch 6/20\n",
            "122/122 [==============================] - 53s 435ms/step - loss: 0.9884 - accuracy: 0.6415 - val_loss: 1.1056 - val_accuracy: 0.6081\n",
            "Epoch 7/20\n",
            "122/122 [==============================] - 53s 436ms/step - loss: 0.8529 - accuracy: 0.6904 - val_loss: 1.0613 - val_accuracy: 0.6325\n",
            "Epoch 8/20\n",
            "122/122 [==============================] - 53s 435ms/step - loss: 0.7625 - accuracy: 0.7267 - val_loss: 0.9845 - val_accuracy: 0.6458\n",
            "Epoch 9/20\n",
            "122/122 [==============================] - 53s 435ms/step - loss: 0.6820 - accuracy: 0.7562 - val_loss: 1.0000 - val_accuracy: 0.6412\n",
            "Epoch 10/20\n",
            "122/122 [==============================] - 53s 431ms/step - loss: 0.6258 - accuracy: 0.7842 - val_loss: 1.0395 - val_accuracy: 0.6684\n",
            "Epoch 11/20\n",
            "122/122 [==============================] - 53s 431ms/step - loss: 0.5779 - accuracy: 0.7971 - val_loss: 1.0047 - val_accuracy: 0.6707\n",
            "Epoch 12/20\n",
            "122/122 [==============================] - 53s 435ms/step - loss: 0.5110 - accuracy: 0.8235 - val_loss: 1.0365 - val_accuracy: 0.6800\n",
            "Epoch 13/20\n",
            "122/122 [==============================] - 53s 434ms/step - loss: 0.4754 - accuracy: 0.8367 - val_loss: 1.0561 - val_accuracy: 0.6725\n",
            "Epoch 14/20\n",
            "122/122 [==============================] - 53s 435ms/step - loss: 0.4424 - accuracy: 0.8498 - val_loss: 1.0047 - val_accuracy: 0.6916\n",
            "Epoch 15/20\n",
            "122/122 [==============================] - 53s 434ms/step - loss: 0.4128 - accuracy: 0.8578 - val_loss: 1.0513 - val_accuracy: 0.6980\n",
            "Epoch 16/20\n",
            "122/122 [==============================] - 53s 433ms/step - loss: 0.4021 - accuracy: 0.8655 - val_loss: 1.0865 - val_accuracy: 0.6951\n",
            "Epoch 17/20\n",
            "122/122 [==============================] - 53s 435ms/step - loss: 0.3864 - accuracy: 0.8708 - val_loss: 1.0409 - val_accuracy: 0.7142\n",
            "Epoch 18/20\n",
            "122/122 [==============================] - 53s 434ms/step - loss: 0.3793 - accuracy: 0.8730 - val_loss: 1.1115 - val_accuracy: 0.7067\n",
            "Epoch 19/20\n",
            "122/122 [==============================] - 53s 434ms/step - loss: 0.3899 - accuracy: 0.8697 - val_loss: 1.0408 - val_accuracy: 0.7009\n",
            "Epoch 20/20\n",
            "122/122 [==============================] - 53s 434ms/step - loss: 0.3560 - accuracy: 0.8782 - val_loss: 1.0732 - val_accuracy: 0.7130\n",
            "2020-09-28 16:11:41.741263: W tensorflow/core/grappler/optimizers/auto_mixed_precision.cc:1972] No (suitable) GPUs detected, skipping auto_mixed_precision_cuda graph optimizer\n",
            "2020-09-28 16:11:41.766597: W tensorflow/core/grappler/optimizers/auto_mixed_precision.cc:1972] No (suitable) GPUs detected, skipping auto_mixed_precision_cuda graph optimizer\n",
            "2020-09-28 16:11:41.802247: W tensorflow/core/grappler/optimizers/auto_mixed_precision.cc:1972] No (suitable) GPUs detected, skipping auto_mixed_precision_cuda graph optimizer\n",
            "2020-09-28 16:11:41.811523: W tensorflow/core/grappler/optimizers/auto_mixed_precision.cc:1972] No (suitable) GPUs detected, skipping auto_mixed_precision_cuda graph optimizer\n",
            "2020-09-28 16:11:41.826403: W tensorflow/core/grappler/optimizers/auto_mixed_precision.cc:1972] No (suitable) GPUs detected, skipping auto_mixed_precision_cuda graph optimizer\n",
            "2020-09-28 16:11:41.836668: W tensorflow/core/grappler/optimizers/auto_mixed_precision.cc:1972] No (suitable) GPUs detected, skipping auto_mixed_precision_cuda graph optimizer\n",
            "INFO:tensorflow:Assets written to: models/HybridModel/assets\n",
            "2020-09-28 16:12:05,938 - tensorflow - INFO - Assets written to: models/HybridModel/assets\n",
            "Training the model: HybridModel_Glove\n",
            "Epoch 1/20\n",
            "2020-09-28 16:12:09.219741: W tensorflow/core/grappler/optimizers/auto_mixed_precision.cc:1972] No (suitable) GPUs detected, skipping auto_mixed_precision_cuda graph optimizer\n",
            "2020-09-28 16:12:09.278990: W tensorflow/core/grappler/optimizers/auto_mixed_precision.cc:1972] No (suitable) GPUs detected, skipping auto_mixed_precision_cuda graph optimizer\n",
            "2020-09-28 16:12:09.342303: W tensorflow/core/grappler/optimizers/auto_mixed_precision.cc:1972] No (suitable) GPUs detected, skipping auto_mixed_precision_cuda graph optimizer\n",
            "2020-09-28 16:12:09.350454: W tensorflow/core/grappler/optimizers/auto_mixed_precision.cc:1972] No (suitable) GPUs detected, skipping auto_mixed_precision_cuda graph optimizer\n",
            "2020-09-28 16:12:09.465817: W tensorflow/core/grappler/optimizers/auto_mixed_precision.cc:1972] No (suitable) GPUs detected, skipping auto_mixed_precision_cuda graph optimizer\n",
            "2020-09-28 16:12:09.476952: W tensorflow/core/grappler/optimizers/auto_mixed_precision.cc:1972] No (suitable) GPUs detected, skipping auto_mixed_precision_cuda graph optimizer\n",
            "122/122 [==============================] - ETA: 0s - loss: 1.8438 - accuracy: 0.36402020-09-28 16:12:34.423867: W tensorflow/core/grappler/optimizers/auto_mixed_precision.cc:1972] No (suitable) GPUs detected, skipping auto_mixed_precision_cuda graph optimizer\n",
            "2020-09-28 16:12:34.443418: W tensorflow/core/grappler/optimizers/auto_mixed_precision.cc:1972] No (suitable) GPUs detected, skipping auto_mixed_precision_cuda graph optimizer\n",
            "2020-09-28 16:12:34.474776: W tensorflow/core/grappler/optimizers/auto_mixed_precision.cc:1972] No (suitable) GPUs detected, skipping auto_mixed_precision_cuda graph optimizer\n",
            "2020-09-28 16:12:34.480908: W tensorflow/core/grappler/optimizers/auto_mixed_precision.cc:1972] No (suitable) GPUs detected, skipping auto_mixed_precision_cuda graph optimizer\n",
            "122/122 [==============================] - 26s 212ms/step - loss: 1.8438 - accuracy: 0.3640 - val_loss: 1.3785 - val_accuracy: 0.4835\n",
            "Epoch 2/20\n",
            "122/122 [==============================] - 26s 209ms/step - loss: 1.2636 - accuracy: 0.5319 - val_loss: 1.1557 - val_accuracy: 0.5786\n",
            "Epoch 3/20\n",
            "122/122 [==============================] - 25s 208ms/step - loss: 1.0114 - accuracy: 0.6272 - val_loss: 1.0767 - val_accuracy: 0.6133\n",
            "Epoch 4/20\n",
            "122/122 [==============================] - 25s 208ms/step - loss: 0.8320 - accuracy: 0.6972 - val_loss: 0.9476 - val_accuracy: 0.6846\n",
            "Epoch 5/20\n",
            "122/122 [==============================] - 25s 208ms/step - loss: 0.6992 - accuracy: 0.7484 - val_loss: 0.8763 - val_accuracy: 0.6997\n",
            "Epoch 6/20\n",
            "122/122 [==============================] - 25s 208ms/step - loss: 0.6071 - accuracy: 0.7806 - val_loss: 0.8313 - val_accuracy: 0.7241\n",
            "Epoch 7/20\n",
            "122/122 [==============================] - 25s 208ms/step - loss: 0.5390 - accuracy: 0.8098 - val_loss: 0.8406 - val_accuracy: 0.7328\n",
            "Epoch 8/20\n",
            "122/122 [==============================] - 25s 208ms/step - loss: 0.4878 - accuracy: 0.8261 - val_loss: 0.8686 - val_accuracy: 0.7264\n",
            "Epoch 9/20\n",
            "122/122 [==============================] - 25s 207ms/step - loss: 0.4644 - accuracy: 0.8389 - val_loss: 0.7789 - val_accuracy: 0.7571\n",
            "Epoch 10/20\n",
            "122/122 [==============================] - 25s 209ms/step - loss: 0.4095 - accuracy: 0.8508 - val_loss: 0.7753 - val_accuracy: 0.7635\n",
            "Epoch 11/20\n",
            "122/122 [==============================] - 25s 208ms/step - loss: 0.4168 - accuracy: 0.8539 - val_loss: 0.8538 - val_accuracy: 0.7386\n",
            "Epoch 12/20\n",
            "122/122 [==============================] - 26s 209ms/step - loss: 0.4232 - accuracy: 0.8525 - val_loss: 0.8324 - val_accuracy: 0.7658\n",
            "Epoch 13/20\n",
            "122/122 [==============================] - 25s 206ms/step - loss: 0.3901 - accuracy: 0.8603 - val_loss: 0.8040 - val_accuracy: 0.7757\n",
            "Epoch 14/20\n",
            "122/122 [==============================] - 25s 206ms/step - loss: 0.3793 - accuracy: 0.8668 - val_loss: 0.7642 - val_accuracy: 0.7751\n",
            "Epoch 15/20\n",
            "122/122 [==============================] - 25s 208ms/step - loss: 0.3589 - accuracy: 0.8702 - val_loss: 0.8036 - val_accuracy: 0.7693\n",
            "Epoch 16/20\n",
            "122/122 [==============================] - 25s 207ms/step - loss: 0.3505 - accuracy: 0.8789 - val_loss: 0.8570 - val_accuracy: 0.7635\n",
            "Epoch 17/20\n",
            "122/122 [==============================] - 25s 208ms/step - loss: 0.3512 - accuracy: 0.8766 - val_loss: 0.8381 - val_accuracy: 0.7670\n",
            "Epoch 18/20\n",
            "122/122 [==============================] - 25s 208ms/step - loss: 0.3808 - accuracy: 0.8673 - val_loss: 0.8495 - val_accuracy: 0.7699\n",
            "Epoch 19/20\n",
            "122/122 [==============================] - 25s 205ms/step - loss: 0.3581 - accuracy: 0.8742 - val_loss: 0.8689 - val_accuracy: 0.7664\n",
            "Epoch 20/20\n",
            "122/122 [==============================] - 25s 208ms/step - loss: 0.3503 - accuracy: 0.8771 - val_loss: 0.8473 - val_accuracy: 0.7658\n",
            "2020-09-28 16:20:41.344984: W tensorflow/core/grappler/optimizers/auto_mixed_precision.cc:1972] No (suitable) GPUs detected, skipping auto_mixed_precision_cuda graph optimizer\n",
            "2020-09-28 16:20:41.359587: W tensorflow/core/grappler/optimizers/auto_mixed_precision.cc:1972] No (suitable) GPUs detected, skipping auto_mixed_precision_cuda graph optimizer\n",
            "2020-09-28 16:20:41.380750: W tensorflow/core/grappler/optimizers/auto_mixed_precision.cc:1972] No (suitable) GPUs detected, skipping auto_mixed_precision_cuda graph optimizer\n",
            "2020-09-28 16:20:41.386182: W tensorflow/core/grappler/optimizers/auto_mixed_precision.cc:1972] No (suitable) GPUs detected, skipping auto_mixed_precision_cuda graph optimizer\n",
            "INFO:tensorflow:Assets written to: models/HybridModel_Glove/assets\n",
            "2020-09-28 16:20:51,269 - tensorflow - INFO - Assets written to: models/HybridModel_Glove/assets\n",
            "                                      1  ...  weighted avg\n",
            "LSTM              precision    0.562044  ...      0.487202\n",
            "                  recall       0.613546  ...      0.471570\n",
            "                  f1-score     0.586667  ...      0.473580\n",
            "                  support    251.000000  ...   1917.000000\n",
            "LSTM_Glove        precision    0.649635  ...      0.482412\n",
            "                  recall       0.510029  ...      0.473135\n",
            "                  f1-score     0.571429  ...      0.474625\n",
            "                  support    349.000000  ...   1917.000000\n",
            "HybridModel       precision    0.598540  ...      0.508511\n",
            "                  recall       0.658635  ...      0.503912\n",
            "                  f1-score     0.627151  ...      0.504658\n",
            "                  support    249.000000  ...   1917.000000\n",
            "HybridModel_Glove precision    0.551095  ...      0.489447\n",
            "                  recall       0.547101  ...      0.475222\n",
            "                  f1-score     0.549091  ...      0.478959\n",
            "                  support    276.000000  ...   1917.000000\n",
            "\n",
            "[16 rows x 10 columns]\n"
          ],
          "name": "stdout"
        }
      ]
    },
    {
      "cell_type": "markdown",
      "metadata": {
        "id": "kyd6NyWzjLOP"
      },
      "source": [
        "**Results are ready**"
      ]
    },
    {
      "cell_type": "code",
      "metadata": {
        "id": "3fh70EMDhMTT"
      },
      "source": [
        "final_report = pd.read_csv(\"./customer_interaction_summary/models/final_report.csv\")"
      ],
      "execution_count": 27,
      "outputs": []
    },
    {
      "cell_type": "code",
      "metadata": {
        "id": "kgAzlE3GlbPO",
        "outputId": "b713e542-1e7d-4ca3-d25b-e949303b0a97",
        "colab": {
          "base_uri": "https://localhost:8080/",
          "height": 167
        }
      },
      "source": [
        "final_report[final_report['Unnamed: 1'] == 'f1-score']"
      ],
      "execution_count": 28,
      "outputs": [
        {
          "output_type": "execute_result",
          "data": {
            "text/html": [
              "<div>\n",
              "<style scoped>\n",
              "    .dataframe tbody tr th:only-of-type {\n",
              "        vertical-align: middle;\n",
              "    }\n",
              "\n",
              "    .dataframe tbody tr th {\n",
              "        vertical-align: top;\n",
              "    }\n",
              "\n",
              "    .dataframe thead th {\n",
              "        text-align: right;\n",
              "    }\n",
              "</style>\n",
              "<table border=\"1\" class=\"dataframe\">\n",
              "  <thead>\n",
              "    <tr style=\"text-align: right;\">\n",
              "      <th></th>\n",
              "      <th>Unnamed: 0</th>\n",
              "      <th>Unnamed: 1</th>\n",
              "      <th>1</th>\n",
              "      <th>2</th>\n",
              "      <th>3</th>\n",
              "      <th>4</th>\n",
              "      <th>5</th>\n",
              "      <th>6</th>\n",
              "      <th>7</th>\n",
              "      <th>accuracy</th>\n",
              "      <th>macro avg</th>\n",
              "      <th>weighted avg</th>\n",
              "    </tr>\n",
              "  </thead>\n",
              "  <tbody>\n",
              "    <tr>\n",
              "      <th>2</th>\n",
              "      <td>LSTM</td>\n",
              "      <td>f1-score</td>\n",
              "      <td>0.586667</td>\n",
              "      <td>0.582064</td>\n",
              "      <td>0.376328</td>\n",
              "      <td>0.538462</td>\n",
              "      <td>0.460145</td>\n",
              "      <td>0.353175</td>\n",
              "      <td>0.389791</td>\n",
              "      <td>0.471570</td>\n",
              "      <td>0.469519</td>\n",
              "      <td>0.473580</td>\n",
              "    </tr>\n",
              "    <tr>\n",
              "      <th>6</th>\n",
              "      <td>LSTM_Glove</td>\n",
              "      <td>f1-score</td>\n",
              "      <td>0.571429</td>\n",
              "      <td>0.593573</td>\n",
              "      <td>0.377897</td>\n",
              "      <td>0.552585</td>\n",
              "      <td>0.465812</td>\n",
              "      <td>0.367347</td>\n",
              "      <td>0.372514</td>\n",
              "      <td>0.473135</td>\n",
              "      <td>0.471594</td>\n",
              "      <td>0.474625</td>\n",
              "    </tr>\n",
              "    <tr>\n",
              "      <th>10</th>\n",
              "      <td>HybridModel</td>\n",
              "      <td>f1-score</td>\n",
              "      <td>0.627151</td>\n",
              "      <td>0.620209</td>\n",
              "      <td>0.413284</td>\n",
              "      <td>0.562814</td>\n",
              "      <td>0.509960</td>\n",
              "      <td>0.391304</td>\n",
              "      <td>0.397059</td>\n",
              "      <td>0.503912</td>\n",
              "      <td>0.503112</td>\n",
              "      <td>0.504658</td>\n",
              "    </tr>\n",
              "    <tr>\n",
              "      <th>14</th>\n",
              "      <td>HybridModel_Glove</td>\n",
              "      <td>f1-score</td>\n",
              "      <td>0.549091</td>\n",
              "      <td>0.596745</td>\n",
              "      <td>0.383057</td>\n",
              "      <td>0.526154</td>\n",
              "      <td>0.502836</td>\n",
              "      <td>0.339844</td>\n",
              "      <td>0.402414</td>\n",
              "      <td>0.475222</td>\n",
              "      <td>0.471449</td>\n",
              "      <td>0.478959</td>\n",
              "    </tr>\n",
              "  </tbody>\n",
              "</table>\n",
              "</div>"
            ],
            "text/plain": [
              "           Unnamed: 0 Unnamed: 1         1  ...  accuracy  macro avg  weighted avg\n",
              "2                LSTM   f1-score  0.586667  ...  0.471570   0.469519      0.473580\n",
              "6          LSTM_Glove   f1-score  0.571429  ...  0.473135   0.471594      0.474625\n",
              "10        HybridModel   f1-score  0.627151  ...  0.503912   0.503112      0.504658\n",
              "14  HybridModel_Glove   f1-score  0.549091  ...  0.475222   0.471449      0.478959\n",
              "\n",
              "[4 rows x 12 columns]"
            ]
          },
          "metadata": {
            "tags": []
          },
          "execution_count": 28
        }
      ]
    },
    {
      "cell_type": "code",
      "metadata": {
        "id": "uh8Sgo6xsbhp",
        "outputId": "a045ef24-d184-45ef-dae6-d7bcc3275331",
        "colab": {
          "base_uri": "https://localhost:8080/",
          "height": 167
        }
      },
      "source": [
        "final_report[final_report['Unnamed: 1'] == 'recall']"
      ],
      "execution_count": 29,
      "outputs": [
        {
          "output_type": "execute_result",
          "data": {
            "text/html": [
              "<div>\n",
              "<style scoped>\n",
              "    .dataframe tbody tr th:only-of-type {\n",
              "        vertical-align: middle;\n",
              "    }\n",
              "\n",
              "    .dataframe tbody tr th {\n",
              "        vertical-align: top;\n",
              "    }\n",
              "\n",
              "    .dataframe thead th {\n",
              "        text-align: right;\n",
              "    }\n",
              "</style>\n",
              "<table border=\"1\" class=\"dataframe\">\n",
              "  <thead>\n",
              "    <tr style=\"text-align: right;\">\n",
              "      <th></th>\n",
              "      <th>Unnamed: 0</th>\n",
              "      <th>Unnamed: 1</th>\n",
              "      <th>1</th>\n",
              "      <th>2</th>\n",
              "      <th>3</th>\n",
              "      <th>4</th>\n",
              "      <th>5</th>\n",
              "      <th>6</th>\n",
              "      <th>7</th>\n",
              "      <th>accuracy</th>\n",
              "      <th>macro avg</th>\n",
              "      <th>weighted avg</th>\n",
              "    </tr>\n",
              "  </thead>\n",
              "  <tbody>\n",
              "    <tr>\n",
              "      <th>1</th>\n",
              "      <td>LSTM</td>\n",
              "      <td>recall</td>\n",
              "      <td>0.613546</td>\n",
              "      <td>0.542587</td>\n",
              "      <td>0.322078</td>\n",
              "      <td>0.516779</td>\n",
              "      <td>0.456835</td>\n",
              "      <td>0.386957</td>\n",
              "      <td>0.531646</td>\n",
              "      <td>0.471570</td>\n",
              "      <td>0.481489</td>\n",
              "      <td>0.471570</td>\n",
              "    </tr>\n",
              "    <tr>\n",
              "      <th>5</th>\n",
              "      <td>LSTM_Glove</td>\n",
              "      <td>recall</td>\n",
              "      <td>0.510029</td>\n",
              "      <td>0.615686</td>\n",
              "      <td>0.369338</td>\n",
              "      <td>0.540070</td>\n",
              "      <td>0.561856</td>\n",
              "      <td>0.373585</td>\n",
              "      <td>0.367857</td>\n",
              "      <td>0.473135</td>\n",
              "      <td>0.476917</td>\n",
              "      <td>0.473135</td>\n",
              "    </tr>\n",
              "    <tr>\n",
              "      <th>9</th>\n",
              "      <td>HybridModel</td>\n",
              "      <td>recall</td>\n",
              "      <td>0.658635</td>\n",
              "      <td>0.593333</td>\n",
              "      <td>0.417910</td>\n",
              "      <td>0.520124</td>\n",
              "      <td>0.561404</td>\n",
              "      <td>0.388489</td>\n",
              "      <td>0.398524</td>\n",
              "      <td>0.503912</td>\n",
              "      <td>0.505488</td>\n",
              "      <td>0.503912</td>\n",
              "    </tr>\n",
              "    <tr>\n",
              "      <th>13</th>\n",
              "      <td>HybridModel_Glove</td>\n",
              "      <td>recall</td>\n",
              "      <td>0.547101</td>\n",
              "      <td>0.591398</td>\n",
              "      <td>0.386617</td>\n",
              "      <td>0.454787</td>\n",
              "      <td>0.521569</td>\n",
              "      <td>0.365546</td>\n",
              "      <td>0.446429</td>\n",
              "      <td>0.475222</td>\n",
              "      <td>0.473350</td>\n",
              "      <td>0.475222</td>\n",
              "    </tr>\n",
              "  </tbody>\n",
              "</table>\n",
              "</div>"
            ],
            "text/plain": [
              "           Unnamed: 0 Unnamed: 1         1  ...  accuracy  macro avg  weighted avg\n",
              "1                LSTM     recall  0.613546  ...  0.471570   0.481489      0.471570\n",
              "5          LSTM_Glove     recall  0.510029  ...  0.473135   0.476917      0.473135\n",
              "9         HybridModel     recall  0.658635  ...  0.503912   0.505488      0.503912\n",
              "13  HybridModel_Glove     recall  0.547101  ...  0.475222   0.473350      0.475222\n",
              "\n",
              "[4 rows x 12 columns]"
            ]
          },
          "metadata": {
            "tags": []
          },
          "execution_count": 29
        }
      ]
    },
    {
      "cell_type": "code",
      "metadata": {
        "id": "rDTFj96Du_Kj",
        "outputId": "b7357315-7e4d-4bdb-90d6-ccb7dc426374",
        "colab": {
          "base_uri": "https://localhost:8080/",
          "height": 167
        }
      },
      "source": [
        "final_report[final_report['Unnamed: 1'] == 'precision']"
      ],
      "execution_count": 30,
      "outputs": [
        {
          "output_type": "execute_result",
          "data": {
            "text/html": [
              "<div>\n",
              "<style scoped>\n",
              "    .dataframe tbody tr th:only-of-type {\n",
              "        vertical-align: middle;\n",
              "    }\n",
              "\n",
              "    .dataframe tbody tr th {\n",
              "        vertical-align: top;\n",
              "    }\n",
              "\n",
              "    .dataframe thead th {\n",
              "        text-align: right;\n",
              "    }\n",
              "</style>\n",
              "<table border=\"1\" class=\"dataframe\">\n",
              "  <thead>\n",
              "    <tr style=\"text-align: right;\">\n",
              "      <th></th>\n",
              "      <th>Unnamed: 0</th>\n",
              "      <th>Unnamed: 1</th>\n",
              "      <th>1</th>\n",
              "      <th>2</th>\n",
              "      <th>3</th>\n",
              "      <th>4</th>\n",
              "      <th>5</th>\n",
              "      <th>6</th>\n",
              "      <th>7</th>\n",
              "      <th>accuracy</th>\n",
              "      <th>macro avg</th>\n",
              "      <th>weighted avg</th>\n",
              "    </tr>\n",
              "  </thead>\n",
              "  <tbody>\n",
              "    <tr>\n",
              "      <th>0</th>\n",
              "      <td>LSTM</td>\n",
              "      <td>precision</td>\n",
              "      <td>0.562044</td>\n",
              "      <td>0.627737</td>\n",
              "      <td>0.452555</td>\n",
              "      <td>0.562044</td>\n",
              "      <td>0.463504</td>\n",
              "      <td>0.324818</td>\n",
              "      <td>0.307692</td>\n",
              "      <td>0.471570</td>\n",
              "      <td>0.471485</td>\n",
              "      <td>0.487202</td>\n",
              "    </tr>\n",
              "    <tr>\n",
              "      <th>4</th>\n",
              "      <td>LSTM_Glove</td>\n",
              "      <td>precision</td>\n",
              "      <td>0.649635</td>\n",
              "      <td>0.572993</td>\n",
              "      <td>0.386861</td>\n",
              "      <td>0.565693</td>\n",
              "      <td>0.397810</td>\n",
              "      <td>0.361314</td>\n",
              "      <td>0.377289</td>\n",
              "      <td>0.473135</td>\n",
              "      <td>0.473085</td>\n",
              "      <td>0.482412</td>\n",
              "    </tr>\n",
              "    <tr>\n",
              "      <th>8</th>\n",
              "      <td>HybridModel</td>\n",
              "      <td>precision</td>\n",
              "      <td>0.598540</td>\n",
              "      <td>0.649635</td>\n",
              "      <td>0.408759</td>\n",
              "      <td>0.613139</td>\n",
              "      <td>0.467153</td>\n",
              "      <td>0.394161</td>\n",
              "      <td>0.395604</td>\n",
              "      <td>0.503912</td>\n",
              "      <td>0.503856</td>\n",
              "      <td>0.508511</td>\n",
              "    </tr>\n",
              "    <tr>\n",
              "      <th>12</th>\n",
              "      <td>HybridModel_Glove</td>\n",
              "      <td>precision</td>\n",
              "      <td>0.551095</td>\n",
              "      <td>0.602190</td>\n",
              "      <td>0.379562</td>\n",
              "      <td>0.624088</td>\n",
              "      <td>0.485401</td>\n",
              "      <td>0.317518</td>\n",
              "      <td>0.366300</td>\n",
              "      <td>0.475222</td>\n",
              "      <td>0.475165</td>\n",
              "      <td>0.489447</td>\n",
              "    </tr>\n",
              "  </tbody>\n",
              "</table>\n",
              "</div>"
            ],
            "text/plain": [
              "           Unnamed: 0 Unnamed: 1         1  ...  accuracy  macro avg  weighted avg\n",
              "0                LSTM  precision  0.562044  ...  0.471570   0.471485      0.487202\n",
              "4          LSTM_Glove  precision  0.649635  ...  0.473135   0.473085      0.482412\n",
              "8         HybridModel  precision  0.598540  ...  0.503912   0.503856      0.508511\n",
              "12  HybridModel_Glove  precision  0.551095  ...  0.475222   0.475165      0.489447\n",
              "\n",
              "[4 rows x 12 columns]"
            ]
          },
          "metadata": {
            "tags": []
          },
          "execution_count": 30
        }
      ]
    },
    {
      "cell_type": "code",
      "metadata": {
        "id": "9tyt4oKV2MIU"
      },
      "source": [
        ""
      ],
      "execution_count": 17,
      "outputs": []
    },
    {
      "cell_type": "code",
      "metadata": {
        "id": "b9eg6kaj2OXf"
      },
      "source": [
        "!cp \"./customer_interaction_summary/models/final_report.csv\" \"/content/gdrive/My Drive/Colab Notebooks/.kaggle/\""
      ],
      "execution_count": null,
      "outputs": []
    },
    {
      "cell_type": "code",
      "metadata": {
        "id": "LzHbHAXL9M1f",
        "outputId": "dab7ed8f-28a6-4683-cab0-f41d58cead50",
        "colab": {
          "base_uri": "https://localhost:8080/",
          "height": 34
        }
      },
      "source": [
        "!ls \"/content/gdrive/My Drive/Colab Notebooks/.kaggle/\""
      ],
      "execution_count": null,
      "outputs": [
        {
          "output_type": "stream",
          "text": [
            "final_report.csv  kaggle.json  siim-isic-melanoma-classification\n"
          ],
          "name": "stdout"
        }
      ]
    },
    {
      "cell_type": "code",
      "metadata": {
        "id": "LlCoNjIx9URv",
        "outputId": "4836fee4-cb08-43a6-bfd3-80960b3d515e",
        "colab": {
          "base_uri": "https://localhost:8080/",
          "height": 17
        }
      },
      "source": [
        "from google.colab import files\n",
        "files.download('./customer_interaction_summary/models/final_report.csv')"
      ],
      "execution_count": null,
      "outputs": [
        {
          "output_type": "display_data",
          "data": {
            "application/javascript": [
              "\n",
              "    async function download(id, filename, size) {\n",
              "      if (!google.colab.kernel.accessAllowed) {\n",
              "        return;\n",
              "      }\n",
              "      const div = document.createElement('div');\n",
              "      const label = document.createElement('label');\n",
              "      label.textContent = `Downloading \"${filename}\": `;\n",
              "      div.appendChild(label);\n",
              "      const progress = document.createElement('progress');\n",
              "      progress.max = size;\n",
              "      div.appendChild(progress);\n",
              "      document.body.appendChild(div);\n",
              "\n",
              "      const buffers = [];\n",
              "      let downloaded = 0;\n",
              "\n",
              "      const channel = await google.colab.kernel.comms.open(id);\n",
              "      // Send a message to notify the kernel that we're ready.\n",
              "      channel.send({})\n",
              "\n",
              "      for await (const message of channel.messages) {\n",
              "        // Send a message to notify the kernel that we're ready.\n",
              "        channel.send({})\n",
              "        if (message.buffers) {\n",
              "          for (const buffer of message.buffers) {\n",
              "            buffers.push(buffer);\n",
              "            downloaded += buffer.byteLength;\n",
              "            progress.value = downloaded;\n",
              "          }\n",
              "        }\n",
              "      }\n",
              "      const blob = new Blob(buffers, {type: 'application/binary'});\n",
              "      const a = document.createElement('a');\n",
              "      a.href = window.URL.createObjectURL(blob);\n",
              "      a.download = filename;\n",
              "      div.appendChild(a);\n",
              "      a.click();\n",
              "      div.remove();\n",
              "    }\n",
              "  "
            ],
            "text/plain": [
              "<IPython.core.display.Javascript object>"
            ]
          },
          "metadata": {
            "tags": []
          }
        },
        {
          "output_type": "display_data",
          "data": {
            "application/javascript": [
              "download(\"download_6bc42bca-80f8-4a19-9194-bf87f3e97e2f\", \"final_report.csv\", 7253)"
            ],
            "text/plain": [
              "<IPython.core.display.Javascript object>"
            ]
          },
          "metadata": {
            "tags": []
          }
        }
      ]
    },
    {
      "cell_type": "code",
      "metadata": {
        "id": "bOSHMbAqIy_F"
      },
      "source": [
        ""
      ],
      "execution_count": null,
      "outputs": []
    }
  ]
}