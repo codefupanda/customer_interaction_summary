{
 "cells": [
  {
   "cell_type": "code",
   "execution_count": 14,
   "metadata": {},
   "outputs": [],
   "source": [
    "# The basics\n",
    "import numpy as np\n",
    "import pandas as pd\n",
    "\n",
    "# Sklearn\n",
    "from sklearn.model_selection import train_test_split\n",
    "from sklearn.metrics import classification_report, confusion_matrix\n",
    "\n",
    "# Keras\n",
    "from tensorflow.keras.utils import to_categorical\n",
    "from tensorflow.keras.preprocessing.text import one_hot, Tokenizer\n",
    "from tensorflow.keras.preprocessing.sequence import pad_sequences\n",
    "from tensorflow.keras.models import Sequential\n",
    "from tensorflow.keras.layers import Embedding, Flatten, Dense, Softmax, Conv1D, MaxPooling1D, GlobalMaxPooling1D, Bidirectional, LSTM, Dropout\n",
    "\n",
    "# utils\n",
    "import os"
   ]
  },
  {
   "cell_type": "code",
   "execution_count": 4,
   "metadata": {},
   "outputs": [],
   "source": [
    "isear = pd.read_csv('../data/raw/isear.csv', sep='|', error_bad_lines=False, usecols=['Field1', 'SIT', 'EMOT'])"
   ]
  },
  {
   "cell_type": "code",
   "execution_count": 5,
   "metadata": {},
   "outputs": [],
   "source": [
    "number_of_classes = len(isear.EMOT.unique())"
   ]
  },
  {
   "cell_type": "code",
   "execution_count": 6,
   "metadata": {},
   "outputs": [],
   "source": [
    "maxlen = 1000\n",
    "max_words = 10000"
   ]
  },
  {
   "cell_type": "code",
   "execution_count": 7,
   "metadata": {},
   "outputs": [],
   "source": [
    "tokenizer = Tokenizer(num_words=max_words)\n",
    "tokenizer.fit_on_texts(isear['SIT'])\n",
    "sequences = tokenizer.texts_to_sequences(isear['SIT'])"
   ]
  },
  {
   "cell_type": "code",
   "execution_count": 8,
   "metadata": {},
   "outputs": [
    {
     "name": "stdout",
     "output_type": "stream",
     "text": [
      "Found 9063 unique tokens.\n"
     ]
    }
   ],
   "source": [
    "word_index = tokenizer.word_index\n",
    "print('Found %s unique tokens.' % len(word_index))"
   ]
  },
  {
   "cell_type": "code",
   "execution_count": 9,
   "metadata": {},
   "outputs": [],
   "source": [
    "data = pad_sequences(sequences, maxlen=maxlen, padding='post')"
   ]
  },
  {
   "cell_type": "code",
   "execution_count": 10,
   "metadata": {},
   "outputs": [],
   "source": [
    "x_train, x_test, y_train, y_test = train_test_split(data, isear['EMOT'])"
   ]
  },
  {
   "cell_type": "code",
   "execution_count": 11,
   "metadata": {},
   "outputs": [
    {
     "name": "stdout",
     "output_type": "stream",
     "text": [
      "Found 400000 word vectors.\n"
     ]
    }
   ],
   "source": [
    "glove_dir = '../data/external'\n",
    "embeddings_index = {}\n",
    "\n",
    "f = open(os.path.join(glove_dir, 'glove.6B.50d.txt'))\n",
    "for line in f:\n",
    "    values = line.split()\n",
    "    word = values[0]\n",
    "    coefs = np.asarray(values[1:], dtype='float32')\n",
    "    embeddings_index[word] = coefs\n",
    "f.close()\n",
    "\n",
    "print('Found %s word vectors.' % len(embeddings_index))"
   ]
  },
  {
   "cell_type": "code",
   "execution_count": 12,
   "metadata": {},
   "outputs": [
    {
     "data": {
      "text/plain": [
       "array([ 0.03882596, -0.91902995,  0.25977004,  0.04227898,  0.13896999,\n",
       "        0.20638007,  0.02683   , -0.03402001, -0.09974198,  0.08821005,\n",
       "        0.007544  , -0.36111003,  0.320001  , -0.6568099 ,  0.63689005,\n",
       "        0.33902   , -0.7714    , -0.59767103,  0.711054  ,  0.44857004,\n",
       "       -0.08957994, -0.01644999, -0.08847399, -0.17911002,  0.43223003,\n",
       "       -0.28219986, -0.09410012, -0.9570599 ,  0.01775998,  0.32842597,\n",
       "        0.11489999, -0.36365002, -0.52906007,  0.11805284, -0.10499001,\n",
       "       -0.219787  , -0.33020002, -0.137476  ,  0.10705006,  0.92508006,\n",
       "       -0.223916  ,  0.71121997, -0.29156998,  0.24670503, -0.05374995,\n",
       "        0.2274299 , -0.09986001,  0.33875012, -0.69724536,  0.10499996],\n",
       "      dtype=float32)"
      ]
     },
     "execution_count": 12,
     "metadata": {},
     "output_type": "execute_result"
    }
   ],
   "source": [
    "embeddings_index['king'] - embeddings_index['man'] + embeddings_index['woman'] - embeddings_index['queen']"
   ]
  },
  {
   "cell_type": "code",
   "execution_count": 13,
   "metadata": {},
   "outputs": [],
   "source": [
    "embedding_dim = 50 # if chaning this, update the file name above \n",
    "\n",
    "embedding_matrix = np.zeros((max_words, embedding_dim))\n",
    "\n",
    "for word, i in word_index.items():\n",
    "    if i < max_words:\n",
    "        embedding_vector = embeddings_index.get(word)\n",
    "    if embedding_vector is not None:\n",
    "        embedding_matrix[i] = embedding_vector"
   ]
  },
  {
   "cell_type": "code",
   "execution_count": null,
   "metadata": {},
   "outputs": [],
   "source": []
  },
  {
   "cell_type": "markdown",
   "metadata": {},
   "source": [
    "## Model creation time"
   ]
  },
  {
   "cell_type": "code",
   "execution_count": 16,
   "metadata": {},
   "outputs": [
    {
     "name": "stdout",
     "output_type": "stream",
     "text": [
      "Model: \"sequential_1\"\n",
      "_________________________________________________________________\n",
      "Layer (type)                 Output Shape              Param #   \n",
      "=================================================================\n",
      "embedding_1 (Embedding)      (None, 1000, 50)          500000    \n",
      "_________________________________________________________________\n",
      "bidirectional_1 (Bidirection (None, 1000, 256)         183296    \n",
      "_________________________________________________________________\n",
      "conv1d_1 (Conv1D)            (None, 994, 32)           57376     \n",
      "_________________________________________________________________\n",
      "max_pooling1d (MaxPooling1D) (None, 198, 32)           0         \n",
      "_________________________________________________________________\n",
      "dropout (Dropout)            (None, 198, 32)           0         \n",
      "_________________________________________________________________\n",
      "global_max_pooling1d (Global (None, 32)                0         \n",
      "_________________________________________________________________\n",
      "dense (Dense)                (None, 64)                2112      \n",
      "_________________________________________________________________\n",
      "dropout_1 (Dropout)          (None, 64)                0         \n",
      "_________________________________________________________________\n",
      "dense_1 (Dense)              (None, 8)                 520       \n",
      "=================================================================\n",
      "Total params: 743,304\n",
      "Trainable params: 743,304\n",
      "Non-trainable params: 0\n",
      "_________________________________________________________________\n"
     ]
    }
   ],
   "source": [
    "model = Sequential()\n",
    "model.add(Embedding(max_words, embedding_dim, input_length=maxlen))\n",
    "model.add(Bidirectional(LSTM(128, return_sequences=True)))\n",
    "model.add(Conv1D(32, 7, activation='relu'))\n",
    "model.add(MaxPooling1D(5))\n",
    "model.add(Dropout(0.2))\n",
    "model.add(GlobalMaxPooling1D())\n",
    "model.add(Dense(64, activation='relu'))\n",
    "model.add(Dropout(0.2))\n",
    "model.add(Dense(number_of_classes + 1, activation='softmax'))\n",
    "model.compile(loss='categorical_crossentropy', optimizer='adam', metrics=['accuracy'])\n",
    "model.summary()"
   ]
  },
  {
   "cell_type": "code",
   "execution_count": 17,
   "metadata": {},
   "outputs": [
    {
     "name": "stdout",
     "output_type": "stream",
     "text": [
      "Train on 5749 samples, validate on 1917 samples\n",
      "Epoch 1/10\n",
      "5749/5749 [==============================] - 225s 39ms/sample - loss: 1.9416 - accuracy: 0.1891 - val_loss: 1.8031 - val_accuracy: 0.2801\n",
      "Epoch 2/10\n",
      "5749/5749 [==============================] - 223s 39ms/sample - loss: 1.5069 - accuracy: 0.4046 - val_loss: 1.4436 - val_accuracy: 0.4559\n",
      "Epoch 3/10\n",
      "5749/5749 [==============================] - 226s 39ms/sample - loss: 1.1046 - accuracy: 0.5893 - val_loss: 1.2814 - val_accuracy: 0.5389\n",
      "Epoch 4/10\n",
      "5749/5749 [==============================] - 221s 38ms/sample - loss: 0.8094 - accuracy: 0.7193 - val_loss: 1.2845 - val_accuracy: 0.5446\n",
      "Epoch 5/10\n",
      "5749/5749 [==============================] - 217s 38ms/sample - loss: 0.6117 - accuracy: 0.7965 - val_loss: 1.3434 - val_accuracy: 0.5493\n",
      "Epoch 6/10\n",
      "5749/5749 [==============================] - 221s 39ms/sample - loss: 0.4702 - accuracy: 0.8478 - val_loss: 1.4620 - val_accuracy: 0.5357\n",
      "Epoch 7/10\n",
      "5749/5749 [==============================] - 221s 38ms/sample - loss: 0.3630 - accuracy: 0.8854 - val_loss: 1.6572 - val_accuracy: 0.5321\n",
      "Epoch 8/10\n",
      "5749/5749 [==============================] - 219s 38ms/sample - loss: 0.2863 - accuracy: 0.9071 - val_loss: 1.7339 - val_accuracy: 0.5352\n",
      "Epoch 9/10\n",
      "5749/5749 [==============================] - 198s 35ms/sample - loss: 0.2551 - accuracy: 0.9193 - val_loss: 1.7809 - val_accuracy: 0.5326\n",
      "Epoch 10/10\n",
      "5749/5749 [==============================] - 200s 35ms/sample - loss: 0.2305 - accuracy: 0.9268 - val_loss: 2.0287 - val_accuracy: 0.5232\n"
     ]
    },
    {
     "data": {
      "text/plain": [
       "<tensorflow.python.keras.callbacks.History at 0x7fcd4c3c6d90>"
      ]
     },
     "execution_count": 17,
     "metadata": {},
     "output_type": "execute_result"
    }
   ],
   "source": [
    "model.fit(x_train, to_categorical(y_train),\n",
    "          epochs=10,\n",
    "          batch_size=32,\n",
    "          validation_data=(x_test, to_categorical(y_test)))"
   ]
  },
  {
   "cell_type": "code",
   "execution_count": 18,
   "metadata": {},
   "outputs": [
    {
     "data": {
      "text/plain": [
       "array([2, 7, 6, ..., 6, 5, 3])"
      ]
     },
     "execution_count": 18,
     "metadata": {},
     "output_type": "execute_result"
    }
   ],
   "source": [
    "y_pred = model.predict_classes(x_test)\n",
    "y_pred"
   ]
  },
  {
   "cell_type": "code",
   "execution_count": 19,
   "metadata": {},
   "outputs": [
    {
     "data": {
      "text/plain": [
       "array([[182,   6,   4,  32,  12,  33,  16],\n",
       "       [  8, 153,   8,  16,  22,  30,  27],\n",
       "       [ 14,  13,  90,  16,  47,  47,  52],\n",
       "       [ 22,  11,  13, 139,  21,  32,  27],\n",
       "       [ 14,  11,  23,  32, 158,  30,  16],\n",
       "       [ 19,  11,  30,   8,  27, 138,  44],\n",
       "       [ 12,  10,  15,  12,  14,  57, 143]])"
      ]
     },
     "execution_count": 19,
     "metadata": {},
     "output_type": "execute_result"
    }
   ],
   "source": [
    "confusion_matrix(y_test, y_pred)"
   ]
  },
  {
   "cell_type": "code",
   "execution_count": 21,
   "metadata": {},
   "outputs": [
    {
     "name": "stdout",
     "output_type": "stream",
     "text": [
      "              precision    recall  f1-score   support\n",
      "\n",
      "           1       0.67      0.64      0.65       285\n",
      "           2       0.71      0.58      0.64       264\n",
      "           3       0.49      0.32      0.39       279\n",
      "           4       0.55      0.52      0.53       265\n",
      "           5       0.52      0.56      0.54       284\n",
      "           6       0.38      0.50      0.43       277\n",
      "           7       0.44      0.54      0.49       263\n",
      "\n",
      "    accuracy                           0.52      1917\n",
      "   macro avg       0.54      0.52      0.52      1917\n",
      "weighted avg       0.54      0.52      0.52      1917\n",
      "\n"
     ]
    }
   ],
   "source": [
    "print(classification_report(y_test, y_pred))"
   ]
  },
  {
   "cell_type": "code",
   "execution_count": null,
   "metadata": {},
   "outputs": [],
   "source": []
  }
 ],
 "metadata": {
  "kernelspec": {
   "display_name": "Python 3",
   "language": "python",
   "name": "python3"
  },
  "language_info": {
   "codemirror_mode": {
    "name": "ipython",
    "version": 3
   },
   "file_extension": ".py",
   "mimetype": "text/x-python",
   "name": "python",
   "nbconvert_exporter": "python",
   "pygments_lexer": "ipython3",
   "version": "3.7.7"
  }
 },
 "nbformat": 4,
 "nbformat_minor": 4
}
