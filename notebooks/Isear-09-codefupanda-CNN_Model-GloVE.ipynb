{
 "cells": [
  {
   "cell_type": "code",
   "execution_count": 1,
   "metadata": {},
   "outputs": [],
   "source": [
    "# The basics\n",
    "import numpy as np\n",
    "import pandas as pd\n",
    "\n",
    "# Sklearn\n",
    "from sklearn.model_selection import train_test_split\n",
    "from sklearn.metrics import classification_report, confusion_matrix\n",
    "\n",
    "# Keras\n",
    "from tensorflow.keras.utils import to_categorical\n",
    "from tensorflow.keras.preprocessing.text import one_hot, Tokenizer\n",
    "from tensorflow.keras.preprocessing.sequence import pad_sequences\n",
    "from tensorflow.keras.models import Sequential\n",
    "from tensorflow.keras.layers import Embedding, Flatten, Dense, Softmax, Conv1D, MaxPooling1D, GlobalMaxPooling1D\n",
    "\n",
    "# utils\n",
    "import os"
   ]
  },
  {
   "cell_type": "code",
   "execution_count": 2,
   "metadata": {},
   "outputs": [],
   "source": [
    "isear = pd.read_csv('../data/raw/isear.csv', sep='|', error_bad_lines=False, usecols=['Field1', 'SIT', 'EMOT'])"
   ]
  },
  {
   "cell_type": "code",
   "execution_count": 3,
   "metadata": {},
   "outputs": [],
   "source": [
    "number_of_classes = len(isear.EMOT.unique())"
   ]
  },
  {
   "cell_type": "code",
   "execution_count": 4,
   "metadata": {},
   "outputs": [],
   "source": [
    "maxlen = 1000\n",
    "max_words = 10000"
   ]
  },
  {
   "cell_type": "code",
   "execution_count": 5,
   "metadata": {},
   "outputs": [],
   "source": [
    "tokenizer = Tokenizer(num_words=max_words)\n",
    "tokenizer.fit_on_texts(isear['SIT'])\n",
    "sequences = tokenizer.texts_to_sequences(isear['SIT'])"
   ]
  },
  {
   "cell_type": "code",
   "execution_count": 6,
   "metadata": {},
   "outputs": [
    {
     "name": "stdout",
     "output_type": "stream",
     "text": [
      "Found 9063 unique tokens.\n"
     ]
    }
   ],
   "source": [
    "word_index = tokenizer.word_index\n",
    "print('Found %s unique tokens.' % len(word_index))"
   ]
  },
  {
   "cell_type": "code",
   "execution_count": 7,
   "metadata": {},
   "outputs": [],
   "source": [
    "data = pad_sequences(sequences, maxlen=maxlen, padding='post')"
   ]
  },
  {
   "cell_type": "code",
   "execution_count": 8,
   "metadata": {},
   "outputs": [],
   "source": [
    "x_train, x_test, y_train, y_test = train_test_split(data, isear['EMOT'])"
   ]
  },
  {
   "cell_type": "code",
   "execution_count": 9,
   "metadata": {},
   "outputs": [
    {
     "name": "stdout",
     "output_type": "stream",
     "text": [
      "Found 400000 word vectors.\n"
     ]
    }
   ],
   "source": [
    "glove_dir = '../data/external'\n",
    "embeddings_index = {}\n",
    "\n",
    "f = open(os.path.join(glove_dir, 'glove.6B.50d.txt'))\n",
    "for line in f:\n",
    "    values = line.split()\n",
    "    word = values[0]\n",
    "    coefs = np.asarray(values[1:], dtype='float32')\n",
    "    embeddings_index[word] = coefs\n",
    "f.close()\n",
    "\n",
    "print('Found %s word vectors.' % len(embeddings_index))"
   ]
  },
  {
   "cell_type": "code",
   "execution_count": 10,
   "metadata": {},
   "outputs": [
    {
     "data": {
      "text/plain": [
       "array([ 0.03882596, -0.91902995,  0.25977004,  0.04227898,  0.13896999,\n",
       "        0.20638007,  0.02683   , -0.03402001, -0.09974198,  0.08821005,\n",
       "        0.007544  , -0.36111003,  0.320001  , -0.6568099 ,  0.63689005,\n",
       "        0.33902   , -0.7714    , -0.59767103,  0.711054  ,  0.44857004,\n",
       "       -0.08957994, -0.01644999, -0.08847399, -0.17911002,  0.43223003,\n",
       "       -0.28219986, -0.09410012, -0.9570599 ,  0.01775998,  0.32842597,\n",
       "        0.11489999, -0.36365002, -0.52906007,  0.11805284, -0.10499001,\n",
       "       -0.219787  , -0.33020002, -0.137476  ,  0.10705006,  0.92508006,\n",
       "       -0.223916  ,  0.71121997, -0.29156998,  0.24670503, -0.05374995,\n",
       "        0.2274299 , -0.09986001,  0.33875012, -0.69724536,  0.10499996],\n",
       "      dtype=float32)"
      ]
     },
     "execution_count": 10,
     "metadata": {},
     "output_type": "execute_result"
    }
   ],
   "source": [
    "embeddings_index['king'] - embeddings_index['man'] + embeddings_index['woman'] - embeddings_index['queen']"
   ]
  },
  {
   "cell_type": "code",
   "execution_count": 11,
   "metadata": {},
   "outputs": [],
   "source": [
    "embedding_dim = 50 # if chaning this, update the file name above \n",
    "\n",
    "embedding_matrix = np.zeros((max_words, embedding_dim))\n",
    "\n",
    "for word, i in word_index.items():\n",
    "    if i < max_words:\n",
    "        embedding_vector = embeddings_index.get(word)\n",
    "    if embedding_vector is not None:\n",
    "        embedding_matrix[i] = embedding_vector"
   ]
  },
  {
   "cell_type": "code",
   "execution_count": null,
   "metadata": {},
   "outputs": [],
   "source": []
  },
  {
   "cell_type": "markdown",
   "metadata": {},
   "source": [
    "## Model creation time"
   ]
  },
  {
   "cell_type": "code",
   "execution_count": 12,
   "metadata": {},
   "outputs": [
    {
     "name": "stdout",
     "output_type": "stream",
     "text": [
      "Model: \"sequential\"\n",
      "_________________________________________________________________\n",
      "Layer (type)                 Output Shape              Param #   \n",
      "=================================================================\n",
      "embedding (Embedding)        (None, 1000, 50)          500000    \n",
      "_________________________________________________________________\n",
      "conv1d (Conv1D)              (None, 994, 32)           11232     \n",
      "_________________________________________________________________\n",
      "max_pooling1d (MaxPooling1D) (None, 198, 32)           0         \n",
      "_________________________________________________________________\n",
      "conv1d_1 (Conv1D)            (None, 192, 32)           7200      \n",
      "_________________________________________________________________\n",
      "global_max_pooling1d (Global (None, 32)                0         \n",
      "_________________________________________________________________\n",
      "dense (Dense)                (None, 8)                 264       \n",
      "=================================================================\n",
      "Total params: 518,696\n",
      "Trainable params: 518,696\n",
      "Non-trainable params: 0\n",
      "_________________________________________________________________\n"
     ]
    }
   ],
   "source": [
    "model = Sequential()\n",
    "model.add(Embedding(max_words, embedding_dim, input_length=maxlen))\n",
    "model.add(Conv1D(32, 7, activation='relu'))\n",
    "model.add(MaxPooling1D(5))\n",
    "model.add(Conv1D(32, 7, activation='relu'))\n",
    "model.add(GlobalMaxPooling1D())\n",
    "model.add(Dense(number_of_classes + 1,  activation='softmax'))\n",
    "model.compile(loss='categorical_crossentropy', optimizer='adam', metrics=['accuracy'])\n",
    "model.summary()"
   ]
  },
  {
   "cell_type": "code",
   "execution_count": 13,
   "metadata": {},
   "outputs": [
    {
     "name": "stdout",
     "output_type": "stream",
     "text": [
      "Train on 5749 samples, validate on 1917 samples\n",
      "Epoch 1/10\n",
      "5749/5749 [==============================] - 11s 2ms/sample - loss: 1.9708 - accuracy: 0.1465 - val_loss: 1.9396 - val_accuracy: 0.1748\n",
      "Epoch 2/10\n",
      "5749/5749 [==============================] - 11s 2ms/sample - loss: 1.8648 - accuracy: 0.2181 - val_loss: 1.7654 - val_accuracy: 0.2728\n",
      "Epoch 3/10\n",
      "5749/5749 [==============================] - 11s 2ms/sample - loss: 1.4775 - accuracy: 0.4343 - val_loss: 1.4799 - val_accuracy: 0.4413\n",
      "Epoch 4/10\n",
      "5749/5749 [==============================] - 11s 2ms/sample - loss: 0.9808 - accuracy: 0.6624 - val_loss: 1.4638 - val_accuracy: 0.4982\n",
      "Epoch 5/10\n",
      "5749/5749 [==============================] - 11s 2ms/sample - loss: 0.6602 - accuracy: 0.7963 - val_loss: 1.5872 - val_accuracy: 0.5013\n",
      "Epoch 6/10\n",
      "5749/5749 [==============================] - 11s 2ms/sample - loss: 0.4370 - accuracy: 0.8768 - val_loss: 1.7765 - val_accuracy: 0.5076\n",
      "Epoch 7/10\n",
      "5749/5749 [==============================] - 11s 2ms/sample - loss: 0.2908 - accuracy: 0.9247 - val_loss: 2.0495 - val_accuracy: 0.4950\n",
      "Epoch 8/10\n",
      "5749/5749 [==============================] - 11s 2ms/sample - loss: 0.1977 - accuracy: 0.9513 - val_loss: 2.2231 - val_accuracy: 0.5060\n",
      "Epoch 9/10\n",
      "5749/5749 [==============================] - 11s 2ms/sample - loss: 0.1387 - accuracy: 0.9659 - val_loss: 2.4270 - val_accuracy: 0.5070\n",
      "Epoch 10/10\n",
      "5749/5749 [==============================] - 11s 2ms/sample - loss: 0.1037 - accuracy: 0.9753 - val_loss: 2.6468 - val_accuracy: 0.5013\n"
     ]
    },
    {
     "data": {
      "text/plain": [
       "<tensorflow.python.keras.callbacks.History at 0x7ff50e61e250>"
      ]
     },
     "execution_count": 13,
     "metadata": {},
     "output_type": "execute_result"
    }
   ],
   "source": [
    "model.fit(x_train, to_categorical(y_train),\n",
    "          epochs=10,\n",
    "          batch_size=32,\n",
    "          validation_data=(x_test, to_categorical(y_test)))"
   ]
  },
  {
   "cell_type": "code",
   "execution_count": 14,
   "metadata": {},
   "outputs": [
    {
     "data": {
      "text/plain": [
       "array([4, 7, 1, ..., 7, 2, 5])"
      ]
     },
     "execution_count": 14,
     "metadata": {},
     "output_type": "execute_result"
    }
   ],
   "source": [
    "y_pred = model.predict_classes(x_test)\n",
    "y_pred"
   ]
  },
  {
   "cell_type": "code",
   "execution_count": 15,
   "metadata": {},
   "outputs": [
    {
     "data": {
      "text/plain": [
       "array([[156,  20,   7,  35,   8,  47,  13],\n",
       "       [ 11, 147,  35,  22,  15,  24,   7],\n",
       "       [  7,  22, 129,  22,  31,  41,  40],\n",
       "       [ 18,  16,  23, 142,  15,  36,  12],\n",
       "       [ 16,  19,  28,  15, 144,  29,  23],\n",
       "       [ 19,  22,  30,  15,  31, 106,  39],\n",
       "       [ 12,   6,  49,  15,  12,  49, 137]])"
      ]
     },
     "execution_count": 15,
     "metadata": {},
     "output_type": "execute_result"
    }
   ],
   "source": [
    "confusion_matrix(y_test, y_pred)"
   ]
  },
  {
   "cell_type": "code",
   "execution_count": null,
   "metadata": {},
   "outputs": [],
   "source": []
  },
  {
   "cell_type": "code",
   "execution_count": null,
   "metadata": {},
   "outputs": [],
   "source": []
  }
 ],
 "metadata": {
  "kernelspec": {
   "display_name": "Python 3",
   "language": "python",
   "name": "python3"
  },
  "language_info": {
   "codemirror_mode": {
    "name": "ipython",
    "version": 3
   },
   "file_extension": ".py",
   "mimetype": "text/x-python",
   "name": "python",
   "nbconvert_exporter": "python",
   "pygments_lexer": "ipython3",
   "version": "3.7.7"
  }
 },
 "nbformat": 4,
 "nbformat_minor": 4
}
