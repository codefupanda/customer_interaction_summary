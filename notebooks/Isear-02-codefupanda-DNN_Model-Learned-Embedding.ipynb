{
 "cells": [
  {
   "cell_type": "code",
   "execution_count": 1,
   "metadata": {},
   "outputs": [],
   "source": [
    "# The basics\n",
    "import numpy as np\n",
    "import pandas as pd\n",
    "\n",
    "# Sklearn\n",
    "from sklearn.model_selection import train_test_split\n",
    "from sklearn.metrics import classification_report, confusion_matrix\n",
    "\n",
    "# Keras\n",
    "from tensorflow.keras.utils import to_categorical\n",
    "from tensorflow.keras.preprocessing.text import one_hot, Tokenizer\n",
    "from tensorflow.keras.preprocessing.sequence import pad_sequences\n",
    "from tensorflow.keras.models import Sequential\n",
    "from tensorflow.keras.layers import Embedding, Flatten, Dense, Softmax\n",
    "\n",
    "# utils\n",
    "import os"
   ]
  },
  {
   "cell_type": "code",
   "execution_count": 2,
   "metadata": {},
   "outputs": [],
   "source": [
    "isear = pd.read_csv('../data/raw/isear.csv', sep='|', error_bad_lines=False, usecols=['Field1', 'SIT', 'EMOT'])"
   ]
  },
  {
   "cell_type": "code",
   "execution_count": 3,
   "metadata": {},
   "outputs": [],
   "source": [
    "number_of_classes = len(isear.EMOT.unique())"
   ]
  },
  {
   "cell_type": "code",
   "execution_count": 4,
   "metadata": {},
   "outputs": [],
   "source": [
    "maxlen = 1000\n",
    "max_words = 10000"
   ]
  },
  {
   "cell_type": "code",
   "execution_count": 5,
   "metadata": {},
   "outputs": [],
   "source": [
    "tokenizer = Tokenizer(num_words=max_words)\n",
    "tokenizer.fit_on_texts(isear['SIT'])\n",
    "sequences = tokenizer.texts_to_sequences(isear['SIT'])"
   ]
  },
  {
   "cell_type": "code",
   "execution_count": 6,
   "metadata": {},
   "outputs": [
    {
     "name": "stdout",
     "output_type": "stream",
     "text": [
      "Found 9063 unique tokens.\n"
     ]
    }
   ],
   "source": [
    "word_index = tokenizer.word_index\n",
    "print('Found %s unique tokens.' % len(word_index))"
   ]
  },
  {
   "cell_type": "code",
   "execution_count": 7,
   "metadata": {},
   "outputs": [],
   "source": [
    "data = pad_sequences(sequences, maxlen=maxlen, padding='post')"
   ]
  },
  {
   "cell_type": "code",
   "execution_count": 8,
   "metadata": {},
   "outputs": [],
   "source": [
    "x_train, x_test, y_train, y_test = train_test_split(data, isear['EMOT'])"
   ]
  },
  {
   "cell_type": "code",
   "execution_count": null,
   "metadata": {},
   "outputs": [],
   "source": []
  },
  {
   "cell_type": "markdown",
   "metadata": {},
   "source": [
    "## Model creation time"
   ]
  },
  {
   "cell_type": "code",
   "execution_count": 10,
   "metadata": {},
   "outputs": [
    {
     "name": "stdout",
     "output_type": "stream",
     "text": [
      "Model: \"sequential_1\"\n",
      "_________________________________________________________________\n",
      "Layer (type)                 Output Shape              Param #   \n",
      "=================================================================\n",
      "embedding (Embedding)        (None, 1000, 50)          500000    \n",
      "_________________________________________________________________\n",
      "flatten (Flatten)            (None, 50000)             0         \n",
      "_________________________________________________________________\n",
      "dense (Dense)                (None, 32)                1600032   \n",
      "_________________________________________________________________\n",
      "dense_1 (Dense)              (None, 8)                 264       \n",
      "=================================================================\n",
      "Total params: 2,100,296\n",
      "Trainable params: 2,100,296\n",
      "Non-trainable params: 0\n",
      "_________________________________________________________________\n"
     ]
    }
   ],
   "source": [
    "model = Sequential()\n",
    "model.add(Embedding(max_words, output_dim=50, input_length=maxlen))\n",
    "model.add(Flatten())\n",
    "model.add(Dense(32, activation='relu'))\n",
    "model.add(Dense(number_of_classes + 1,  activation='softmax'))\n",
    "model.compile(loss='categorical_crossentropy', optimizer='adam', metrics=['accuracy'])\n",
    "model.summary()"
   ]
  },
  {
   "cell_type": "code",
   "execution_count": 11,
   "metadata": {},
   "outputs": [
    {
     "name": "stdout",
     "output_type": "stream",
     "text": [
      "Train on 5749 samples, validate on 1917 samples\n",
      "Epoch 1/20\n",
      "5749/5749 [==============================] - 3s 497us/sample - loss: 1.9532 - accuracy: 0.1684 - val_loss: 1.8771 - val_accuracy: 0.2723\n",
      "Epoch 2/20\n",
      "5749/5749 [==============================] - 2s 406us/sample - loss: 1.7525 - accuracy: 0.3235 - val_loss: 1.6988 - val_accuracy: 0.3511\n",
      "Epoch 3/20\n",
      "5749/5749 [==============================] - 2s 400us/sample - loss: 1.4241 - accuracy: 0.5088 - val_loss: 1.5420 - val_accuracy: 0.4335\n",
      "Epoch 4/20\n",
      "5749/5749 [==============================] - 2s 400us/sample - loss: 1.0847 - accuracy: 0.6544 - val_loss: 1.5053 - val_accuracy: 0.4413\n",
      "Epoch 5/20\n",
      "5749/5749 [==============================] - 2s 429us/sample - loss: 0.8086 - accuracy: 0.7664 - val_loss: 1.5217 - val_accuracy: 0.4471\n",
      "Epoch 6/20\n",
      "5749/5749 [==============================] - 2s 407us/sample - loss: 0.5945 - accuracy: 0.8572 - val_loss: 1.5406 - val_accuracy: 0.4538\n",
      "Epoch 7/20\n",
      "5749/5749 [==============================] - 2s 401us/sample - loss: 0.4330 - accuracy: 0.9059 - val_loss: 1.6274 - val_accuracy: 0.4502\n",
      "Epoch 8/20\n",
      "5749/5749 [==============================] - 2s 402us/sample - loss: 0.3183 - accuracy: 0.9360 - val_loss: 1.7086 - val_accuracy: 0.4596\n",
      "Epoch 9/20\n",
      "5749/5749 [==============================] - 2s 398us/sample - loss: 0.2343 - accuracy: 0.9551 - val_loss: 1.7692 - val_accuracy: 0.4664\n",
      "Epoch 10/20\n",
      "5749/5749 [==============================] - 2s 402us/sample - loss: 0.1809 - accuracy: 0.9708 - val_loss: 1.8681 - val_accuracy: 0.4653\n",
      "Epoch 11/20\n",
      "5749/5749 [==============================] - 2s 409us/sample - loss: 0.1420 - accuracy: 0.9746 - val_loss: 2.0088 - val_accuracy: 0.4585\n",
      "Epoch 12/20\n",
      "5749/5749 [==============================] - 2s 399us/sample - loss: 0.1154 - accuracy: 0.9786 - val_loss: 2.0318 - val_accuracy: 0.4653\n",
      "Epoch 13/20\n",
      "5749/5749 [==============================] - 2s 403us/sample - loss: 0.0951 - accuracy: 0.9814 - val_loss: 2.2239 - val_accuracy: 0.4554\n",
      "Epoch 14/20\n",
      "5749/5749 [==============================] - 2s 420us/sample - loss: 0.0818 - accuracy: 0.9833 - val_loss: 2.1871 - val_accuracy: 0.4705\n",
      "Epoch 15/20\n",
      "5749/5749 [==============================] - 3s 460us/sample - loss: 0.0711 - accuracy: 0.9838 - val_loss: 2.2978 - val_accuracy: 0.4601\n",
      "Epoch 16/20\n",
      "5749/5749 [==============================] - 3s 456us/sample - loss: 0.0644 - accuracy: 0.9840 - val_loss: 2.3860 - val_accuracy: 0.4617\n",
      "Epoch 17/20\n",
      "5749/5749 [==============================] - 2s 423us/sample - loss: 0.0588 - accuracy: 0.9854 - val_loss: 2.4509 - val_accuracy: 0.4580\n",
      "Epoch 18/20\n",
      "5749/5749 [==============================] - 2s 410us/sample - loss: 0.0554 - accuracy: 0.9850 - val_loss: 2.5433 - val_accuracy: 0.4575\n",
      "Epoch 19/20\n",
      "5749/5749 [==============================] - 3s 490us/sample - loss: 0.0518 - accuracy: 0.9861 - val_loss: 2.5368 - val_accuracy: 0.4585\n",
      "Epoch 20/20\n",
      "5749/5749 [==============================] - 3s 473us/sample - loss: 0.0494 - accuracy: 0.9861 - val_loss: 2.6030 - val_accuracy: 0.4570\n"
     ]
    },
    {
     "data": {
      "text/plain": [
       "<tensorflow.python.keras.callbacks.History at 0x7f8ea1485f90>"
      ]
     },
     "execution_count": 11,
     "metadata": {},
     "output_type": "execute_result"
    }
   ],
   "source": [
    "model.fit(x_train, to_categorical(y_train),\n",
    "          epochs=20,\n",
    "          batch_size=32,\n",
    "          validation_data=(x_test, to_categorical(y_test)))"
   ]
  },
  {
   "cell_type": "code",
   "execution_count": 12,
   "metadata": {},
   "outputs": [
    {
     "data": {
      "text/plain": [
       "array([7, 2, 6, ..., 3, 6, 5])"
      ]
     },
     "execution_count": 12,
     "metadata": {},
     "output_type": "execute_result"
    }
   ],
   "source": [
    "y_pred = model.predict_classes(x_test)\n",
    "y_pred"
   ]
  },
  {
   "cell_type": "code",
   "execution_count": 13,
   "metadata": {},
   "outputs": [
    {
     "data": {
      "text/plain": [
       "array([[146,  11,  15,  61,  12,  21,  18],\n",
       "       [ 14, 123,  18,   9,  24,  70,  12],\n",
       "       [  9,   8,  85,  26,  21,  72,  54],\n",
       "       [ 23,   5,  25, 153,  11,  26,  31],\n",
       "       [  4,  17,  28,   8, 114,  58,  39],\n",
       "       [ 12,  13,  27,  15,  30, 132,  55],\n",
       "       [  6,   6,  27,  22,  20,  58, 123]])"
      ]
     },
     "execution_count": 13,
     "metadata": {},
     "output_type": "execute_result"
    }
   ],
   "source": [
    "confusion_matrix(y_test, y_pred)"
   ]
  },
  {
   "cell_type": "code",
   "execution_count": null,
   "metadata": {},
   "outputs": [],
   "source": []
  },
  {
   "cell_type": "code",
   "execution_count": null,
   "metadata": {},
   "outputs": [],
   "source": []
  }
 ],
 "metadata": {
  "kernelspec": {
   "display_name": "Python 3",
   "language": "python",
   "name": "python3"
  },
  "language_info": {
   "codemirror_mode": {
    "name": "ipython",
    "version": 3
   },
   "file_extension": ".py",
   "mimetype": "text/x-python",
   "name": "python",
   "nbconvert_exporter": "python",
   "pygments_lexer": "ipython3",
   "version": "3.7.7"
  }
 },
 "nbformat": 4,
 "nbformat_minor": 4
}
